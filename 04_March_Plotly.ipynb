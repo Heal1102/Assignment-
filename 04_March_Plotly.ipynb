{
 "cells": [
  {
   "cell_type": "markdown",
   "id": "25484df6-43a6-4d67-a090-911acd382b04",
   "metadata": {},
   "source": [
    "# Q1. Load the \"titanic\" dataset using the load_dataset function of seaborn. Use Plotly express to plot a scatter plot for age and fare columns in the titanic dataset."
   ]
  },
  {
   "cell_type": "code",
   "execution_count": null,
   "id": "79fb4cfb-3a54-469a-8986-7b091eacd6c0",
   "metadata": {},
   "outputs": [],
   "source": [
    "import seaborn as sns\n",
    "import plotly.express as px\n",
    "\n",
    "# Load the Titanic dataset using Seaborn\n",
    "titanic_df = sns.load_dataset('titanic')\n",
    "\n",
    "# Create a scatter plot using Plotly Express\n",
    "fig = px.scatter(titanic_df, x='age', y='fare', title='Scatter Plot of Age vs Fare on Titanic')\n",
    "\n",
    "# Show the plot\n",
    "fig.show()\n"
   ]
  },
  {
   "cell_type": "markdown",
   "id": "832549ae-e636-449c-910b-6114d0d91826",
   "metadata": {},
   "source": [
    "# Q2. Using the tips dataset in the Plotly library, plot a box plot using Plotly express."
   ]
  },
  {
   "cell_type": "code",
   "execution_count": null,
   "id": "8b63f72f-1df6-46d1-a94b-9e0db631c5bf",
   "metadata": {},
   "outputs": [],
   "source": [
    "import plotly.express as px\n",
    "\n",
    "# Load the tips dataset from Plotly\n",
    "tips_df = px.data.tips()\n",
    "\n",
    "# Create a box plot using Plotly Express\n",
    "fig = px.box(tips_df, x=\"day\", y=\"total_bill\", title=\"Box Plot of Total Bill by Day\")\n",
    "\n",
    "# Show the plot\n",
    "fig.show()\n"
   ]
  },
  {
   "cell_type": "markdown",
   "id": "9c42514a-7480-4af8-aa10-dd5dba149d7b",
   "metadata": {},
   "source": [
    "# Q3. Using the tips dataset in the Plotly library, Plot a histogram for x= \"sex\" and y=\"total_bill\" column in the tips dataset. Also, use the \"smoker\" column with the pattern_shape parameter and the \"day\" column with the color parameter."
   ]
  },
  {
   "cell_type": "code",
   "execution_count": null,
   "id": "bdf9537a-6263-45aa-a463-8454586e50a0",
   "metadata": {},
   "outputs": [],
   "source": [
    "# Load the tips dataset from Plotly\n",
    "tips_df = px.data.tips()\n",
    "\n",
    "# Create a histogram with pattern_shape and color parameters\n",
    "fig = px.histogram(tips_df, \n",
    "                   x=\"sex\", \n",
    "                   y=\"total_bill\", \n",
    "                   color=\"day\",\n",
    "                   pattern_shape=\"smoker\",\n",
    "                   title=\"Histogram of Total Bill by Sex\",\n",
    "                   labels={\"sex\": \"Sex\", \"total_bill\": \"Total Bill\", \"day\": \"Day\", \"smoker\": \"Smoker\"}\n",
    "                  )\n",
    "\n",
    "# Show the plot\n",
    "fig.show()"
   ]
  },
  {
   "cell_type": "markdown",
   "id": "82d296c2-a1d2-43d9-820b-f257cbe2dd2d",
   "metadata": {},
   "source": [
    "# Q4. Using the iris dataset in the Plotly library, Plot a scatter matrix plot, using the \"species\" column for the color parameter."
   ]
  },
  {
   "cell_type": "code",
   "execution_count": null,
   "id": "3e34d1f4-5c49-402e-8390-6bd7639a70e5",
   "metadata": {},
   "outputs": [],
   "source": [
    "# Load the iris dataset from Plotly\n",
    "iris_df = px.data.iris()\n",
    "\n",
    "# Create a scatter matrix plot with color parameter\n",
    "fig = px.scatter_matrix(iris_df, \n",
    "                        dimensions=[\"sepal_length\", \"sepal_width\", \"petal_length\", \"petal_width\"], \n",
    "                        color=\"species\",\n",
    "                        title=\"Scatter Matrix Plot of Iris Dataset with Species Color\")\n",
    "\n",
    "# Show the plot\n",
    "fig.show()"
   ]
  },
  {
   "cell_type": "markdown",
   "id": "a584c1c5-2fa7-490c-ae5f-9c51539cdfcb",
   "metadata": {},
   "source": [
    "# Q5. What is Distplot? Using Plotly express, plot a distplot."
   ]
  },
  {
   "cell_type": "code",
   "execution_count": null,
   "id": "2f539b2e-ee25-4f3c-8d30-73dd1d67b320",
   "metadata": {},
   "outputs": [],
   "source": [
    "import numpy as np\n",
    "\n",
    "# Generating some random data for demonstration\n",
    "np.random.seed(0)\n",
    "data = np.random.randn(1000)\n",
    "\n",
    "# Creating the distplot using Plotly Express\n",
    "fig = px.histogram(x=data, nbins=30, title=\"Distribution Plot\")\n",
    "fig.show()"
   ]
  },
  {
   "cell_type": "code",
   "execution_count": null,
   "id": "0cc9cf90-cc9c-440f-8517-588b94790182",
   "metadata": {},
   "outputs": [],
   "source": []
  },
  {
   "cell_type": "code",
   "execution_count": null,
   "id": "84fd0cbb-acd9-493d-a468-41fcd438c994",
   "metadata": {},
   "outputs": [],
   "source": []
  },
  {
   "cell_type": "code",
   "execution_count": null,
   "id": "342dd376-957e-49ee-8960-a9dffa85254e",
   "metadata": {},
   "outputs": [],
   "source": []
  }
 ],
 "metadata": {
  "kernelspec": {
   "display_name": "Python 3 (ipykernel)",
   "language": "python",
   "name": "python3"
  },
  "language_info": {
   "codemirror_mode": {
    "name": "ipython",
    "version": 3
   },
   "file_extension": ".py",
   "mimetype": "text/x-python",
   "name": "python",
   "nbconvert_exporter": "python",
   "pygments_lexer": "ipython3",
   "version": "3.10.8"
  }
 },
 "nbformat": 4,
 "nbformat_minor": 5
}
