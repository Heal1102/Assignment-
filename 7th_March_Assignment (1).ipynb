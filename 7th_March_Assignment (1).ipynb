{
 "cells": [
  {
   "cell_type": "markdown",
   "id": "ebd316e4-a817-44f1-8ba0-e9a26895256c",
   "metadata": {},
   "source": []
  },
  {
   "cell_type": "markdown",
   "id": "179824a1-2a00-4b6f-900c-c4ca963dd23a",
   "metadata": {},
   "source": [
    "# Q1. What are the three measures of central tendency?"
   ]
  },
  {
   "cell_type": "markdown",
   "id": "a70bddef-e117-4f8e-b2b3-9c30edaa182d",
   "metadata": {},
   "source": [
    "Answer : The three measures of central tendency are the mean, median, and mode."
   ]
  },
  {
   "cell_type": "markdown",
   "id": "a2b2c8b5-3240-4c8a-8981-9f335dc54f7d",
   "metadata": {},
   "source": [
    "# Q2. What is the difference between the mean, median, and mode? How are they used to measure the central tendency of a dataset?"
   ]
  },
  {
   "cell_type": "raw",
   "id": "721559ed-2095-46d9-8411-e47691494441",
   "metadata": {},
   "source": [
    "Answer :  The mean is the average value, the median is the middle value, and the mode is the most frequently occurring value. They summarize the central position of a dataset and provide insights into its distribution."
   ]
  },
  {
   "cell_type": "markdown",
   "id": "7237d23b-f9fe-4d4f-9d59-8ef4f819e37a",
   "metadata": {},
   "source": [
    "# Q3. Measure the three measures of central tendency for the given height data:\n",
    "[178,177,176,177,178.2,178,175,179,180,175,178.9,176.2,177,172.5,178,176.5]"
   ]
  },
  {
   "cell_type": "code",
   "execution_count": 4,
   "id": "00c50a8e-21cc-4223-9bb2-76c7c1047a0e",
   "metadata": {},
   "outputs": [
    {
     "name": "stdout",
     "output_type": "stream",
     "text": [
      "Mean: 177.01875\n",
      "Median: 177.0\n",
      "Mode: 177\n"
     ]
    }
   ],
   "source": [
    "import numpy as np\n",
    "\n",
    "data = [178, 177, 176, 177, 178.2, 178, 175, 179, 180, 175, 178.9, 176.2, 177, 172.5, 178, 176.5]\n",
    "\n",
    "mean = np.mean(data)\n",
    "median = np.median(data)\n",
    "mode = max(set(data), key=data.count)\n",
    "\n",
    "print(\"Mean:\", mean)\n",
    "print(\"Median:\", median)\n",
    "print(\"Mode:\", mode)\n"
   ]
  },
  {
   "cell_type": "markdown",
   "id": "adc5a301-bd7c-4d7e-b403-d69962313a6f",
   "metadata": {},
   "source": [
    "# Q4. Find the standard deviation for the given data:\n",
    "[178,177,176,177,178.2,178,175,179,180,175,178.9,176.2,177,172.5,178,176.5]"
   ]
  },
  {
   "cell_type": "code",
   "execution_count": 5,
   "id": "3f1f9293-70bc-48fc-92ef-42ebcc84312b",
   "metadata": {},
   "outputs": [
    {
     "name": "stdout",
     "output_type": "stream",
     "text": [
      "Standard Deviation: 1.7885814036548633\n"
     ]
    }
   ],
   "source": [
    "import numpy as np\n",
    "\n",
    "data = [178, 177, 176, 177, 178.2, 178, 175, 179, 180, 175, 178.9, 176.2, 177, 172.5, 178, 176.5]\n",
    "\n",
    "std_dev = np.std(data)\n",
    "print(\"Standard Deviation:\", std_dev)\n"
   ]
  },
  {
   "cell_type": "markdown",
   "id": "fc4dde32-0831-46b6-8969-0aa9c190070c",
   "metadata": {},
   "source": [
    "# Q5. How are measures of dispersion such as range, variance, and standard deviation used to describe"
   ]
  },
  {
   "cell_type": "markdown",
   "id": "3a0d5f20-644c-4aea-849b-c844af777f97",
   "metadata": {},
   "source": [
    "Answer : Measures of dispersion quantify the spread of data. Range gives the difference between the maximum and minimum values, variance measures the average squared deviation from the mean, and standard deviation is the square root of variance, providing a measure of data variability. For example, a larger standard deviation indicates more spread-out data."
   ]
  },
  {
   "cell_type": "markdown",
   "id": "15442650-5e49-40e0-8dcc-2c6b467f53ef",
   "metadata": {},
   "source": [
    "# Q6. What is a Venn diagram?"
   ]
  },
  {
   "cell_type": "markdown",
   "id": "42efa47a-6591-4626-bfc9-e3f757d63f72",
   "metadata": {},
   "source": [
    "Answer : A Venn diagram is a graphical representation of the relationships between different sets or groups. It consists of overlapping circles or other shapes to visually depict the intersections and differences between sets."
   ]
  },
  {
   "cell_type": "markdown",
   "id": "4509fa18-0ada-4d46-9260-583ab86c6f60",
   "metadata": {},
   "source": [
    "# Q7. For the two given sets A = (2,3,4,5,6,7) & B = (0,2,6,8,10). Find:\n",
    "(i) A B\n",
    "(ii) A ⋃ B"
   ]
  },
  {
   "cell_type": "code",
   "execution_count": 6,
   "id": "78112fce-f405-4539-8239-21b793515a06",
   "metadata": {},
   "outputs": [
    {
     "name": "stdout",
     "output_type": "stream",
     "text": [
      "A intersection B: {2, 6}\n",
      "A union B: {0, 2, 3, 4, 5, 6, 7, 8, 10}\n"
     ]
    }
   ],
   "source": [
    "A = {2, 3, 4, 5, 6, 7}\n",
    "B = {0, 2, 6, 8, 10}\n",
    "\n",
    "print(\"A intersection B:\", A.intersection(B))\n",
    "print(\"A union B:\", A.union(B))\n"
   ]
  },
  {
   "cell_type": "markdown",
   "id": "133a0cf8-42be-48b2-8488-7be6e9604ff7",
   "metadata": {},
   "source": [
    "# Q8. What do you understand about skewness in data?"
   ]
  },
  {
   "cell_type": "markdown",
   "id": "7af32ea4-732d-41dc-b669-b375435c623b",
   "metadata": {},
   "source": [
    "Answer : Skewness in data refers to the asymmetry of its distribution. If a dataset is right-skewed, it means its tail extends more to the right, indicating a concentration of lower values."
   ]
  },
  {
   "cell_type": "markdown",
   "id": "95a9d9f3-d586-451f-a137-e3325db709f8",
   "metadata": {},
   "source": [
    "# Q9. If a data is right skewed then what will be the position of median with respect to mean?"
   ]
  },
  {
   "cell_type": "markdown",
   "id": "63235e7e-036c-4015-bf3e-862e4516f895",
   "metadata": {},
   "source": [
    " Answer : In a right-skewed distribution, the median will be less than the mean."
   ]
  },
  {
   "cell_type": "markdown",
   "id": "3747f24d-b58a-42f1-9886-41a7df01615b",
   "metadata": {},
   "source": [
    "# Q10. Explain the difference between covariance and correlation. How are these measures used in statistical analysis?"
   ]
  },
  {
   "cell_type": "markdown",
   "id": "ed7d7d41-5b67-4f5b-b9ba-29bd3b15840e",
   "metadata": {},
   "source": [
    "Answer :  Covariance measures the degree to which two variables change together, while correlation measures the strength and direction of their linear relationship. Covariance can range from negative to positive values, whereas correlation is standardized between -1 and 1, making it easier to interpret."
   ]
  },
  {
   "cell_type": "markdown",
   "id": "cee4c03e-5430-40c5-8777-dd8dd0b90c2f",
   "metadata": {},
   "source": [
    "# Q11. What is the formula for calculating the sample mean? Provide an example calculation for a dataset.\n"
   ]
  },
  {
   "cell_type": "markdown",
   "id": "6adeafd3-7b4e-4ee0-8c7d-d91f3a764907",
   "metadata": {},
   "source": [
    "Answer :  Covariance measures the degree to which two variables change together, while correlation measures the strength and direction of their linear relationship. Covariance can range from negative to positive values, whereas correlation is standardized between -1 and 1, making it easier to interpret."
   ]
  },
  {
   "cell_type": "markdown",
   "id": "f152bf93-df63-465f-bc48-f63ebcb8a350",
   "metadata": {},
   "source": [
    "# Q12. For a normal distribution data what is the relationship between its measure of central tendency?"
   ]
  },
  {
   "cell_type": "raw",
   "id": "682d58f0-6850-4881-a2c1-88974490d4dd",
   "metadata": {},
   "source": [
    "In a normal distribution, the mean, median, and mode are all equal, indicating symmetry around the central point.\n"
   ]
  },
  {
   "cell_type": "markdown",
   "id": "840aea4d-7c4a-49c5-bc57-11307268e8cb",
   "metadata": {},
   "source": [
    "# Q13. How is covariance different from correlation?"
   ]
  },
  {
   "cell_type": "raw",
   "id": "79c82e28-5a78-4947-bfe2-a31938a9e760",
   "metadata": {},
   "source": [
    " Covariance measures the direction of the relationship between two variables, while correlation measures both the direction and strength of the relationship, standardized between -1 and 1."
   ]
  },
  {
   "cell_type": "markdown",
   "id": "94553085-5ee7-45ef-a3d9-4dda622138fb",
   "metadata": {},
   "source": [
    "# Q14. How do outliers affect measures of central tendency and dispersion? Provide an example."
   ]
  },
  {
   "cell_type": "raw",
   "id": "5241e9bb-5262-45b6-a7cc-f5183150af0f",
   "metadata": {},
   "source": [
    "Outliers can significantly affect measures of central tendency, such as the mean, pulling it towards extreme values. They also impact measures of dispersion, widening the range and increasing variance or standard deviation. For instance, in a dataset of income levels, an outlier representing a millionaire will greatly inflate the mean income."
   ]
  },
  {
   "cell_type": "code",
   "execution_count": null,
   "id": "f134f18f-1478-4341-89a1-e554e297ec12",
   "metadata": {},
   "outputs": [],
   "source": []
  },
  {
   "cell_type": "code",
   "execution_count": null,
   "id": "e4db59ec-3207-477f-aac2-a51f760751b2",
   "metadata": {},
   "outputs": [],
   "source": []
  }
 ],
 "metadata": {
  "kernelspec": {
   "display_name": "Python 3 (ipykernel)",
   "language": "python",
   "name": "python3"
  },
  "language_info": {
   "codemirror_mode": {
    "name": "ipython",
    "version": 3
   },
   "file_extension": ".py",
   "mimetype": "text/x-python",
   "name": "python",
   "nbconvert_exporter": "python",
   "pygments_lexer": "ipython3",
   "version": "3.10.8"
  }
 },
 "nbformat": 4,
 "nbformat_minor": 5
}
