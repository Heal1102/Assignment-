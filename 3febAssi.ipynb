{
 "cells": [
  {
   "cell_type": "code",
   "execution_count": 1,
   "id": "e5938278-6970-4b19-98e6-a49b35794ede",
   "metadata": {},
   "outputs": [],
   "source": [
    "# Q1. Which keyword is used to create a function? Create a function to return a list of odd numbers in the\n",
    "# range of 1 to 25."
   ]
  },
  {
   "cell_type": "code",
   "execution_count": 2,
   "id": "c0a13687-8e19-44c2-b503-f392a325720d",
   "metadata": {},
   "outputs": [],
   "source": [
    "# 'def' keyword is used to create a function which means 'definition'\n",
    "def odd_numbers():\n",
    "    for i  in range(1,26,2):\n",
    "        print(i)"
   ]
  },
  {
   "cell_type": "code",
   "execution_count": 3,
   "id": "6d34bdb1-4172-44c6-b3bf-4100490d86da",
   "metadata": {},
   "outputs": [
    {
     "name": "stdout",
     "output_type": "stream",
     "text": [
      "1\n",
      "3\n",
      "5\n",
      "7\n",
      "9\n",
      "11\n",
      "13\n",
      "15\n",
      "17\n",
      "19\n",
      "21\n",
      "23\n",
      "25\n"
     ]
    }
   ],
   "source": [
    "odd_numbers()"
   ]
  },
  {
   "cell_type": "code",
   "execution_count": 4,
   "id": "45e057de-44c1-4017-9797-7a0f452c44ce",
   "metadata": {},
   "outputs": [],
   "source": [
    "# Q2. Why *args and **kwargs is used in some functions? Create a function each for *args and **kwargs\n",
    "# to demonstrate their use."
   ]
  },
  {
   "cell_type": "code",
   "execution_count": 5,
   "id": "f104ed2a-db50-4b6f-bb61-afafb30fa338",
   "metadata": {},
   "outputs": [],
   "source": [
    "# '*args' is a parameter which will be given when we want to take infinite input as a parameter in a function.\n",
    "# '**kwargs' is also a parameter which will be given when we  have to type input as a parameter in a function as dictonary type.\n",
    "# By the way both of them are not reserve keywords we also give any crediantial name to it as we want."
   ]
  },
  {
   "cell_type": "code",
   "execution_count": 6,
   "id": "257ea069-07d4-455a-81be-ca3454c373ec",
   "metadata": {},
   "outputs": [],
   "source": [
    "#'*args':\n",
    "def infinite_input(*args):\n",
    "     return args\n",
    "    "
   ]
  },
  {
   "cell_type": "code",
   "execution_count": 7,
   "id": "5510284a-638d-4673-97da-6d62311b959f",
   "metadata": {},
   "outputs": [
    {
     "data": {
      "text/plain": [
       "(2, 'gaurav', 3, 23, 23.4, True, [3, 4, 5, 6, 'Praveen'])"
      ]
     },
     "execution_count": 7,
     "metadata": {},
     "output_type": "execute_result"
    }
   ],
   "source": [
    "infinite_input(2,\"gaurav\",3,23,23.4,True,[3,4,5,6,\"Praveen\"])"
   ]
  },
  {
   "cell_type": "code",
   "execution_count": 8,
   "id": "6000c83c-bc79-4b21-b260-81cc34fffb82",
   "metadata": {},
   "outputs": [],
   "source": [
    "#'**kwargs' :\n",
    "def dict_input(**kwargs):\n",
    "    return kwargs"
   ]
  },
  {
   "cell_type": "code",
   "execution_count": 9,
   "id": "57d40bc7-fc3e-451b-8d1a-bea323857836",
   "metadata": {},
   "outputs": [
    {
     "data": {
      "text/plain": [
       "{'key1': 10, 'key2': 20, 'key3': 30, 'key4': 40, 'key5': 50}"
      ]
     },
     "execution_count": 9,
     "metadata": {},
     "output_type": "execute_result"
    }
   ],
   "source": [
    "dict_input(key1=10,key2=20,key3=30,key4=40,key5=50)"
   ]
  },
  {
   "cell_type": "code",
   "execution_count": 10,
   "id": "404fc189-4ede-42f6-ab9e-00577535646f",
   "metadata": {},
   "outputs": [],
   "source": [
    "# Q3. What is an iterator in python? Name the method used to initialise the iterator object and the method\n",
    "# used for iteration. Use these methods to print the first five elements of the given list [2, 4, 6, 8, 10, 12, 14,\n",
    "# 16, 18, 20].\n"
   ]
  },
  {
   "cell_type": "code",
   "execution_count": 11,
   "id": "42107219-41ba-4111-a00a-5135abfd21e6",
   "metadata": {},
   "outputs": [],
   "source": [
    "# An iterator is an object that contains a countable number of values.\n",
    "# An iterator is an object that can be iterated upon, meaning that you can traverse through all the values.\n",
    "# The __iter__() method acts similar, you can do operations (initializing etc.), but must always return the iterator object itself.\n",
    "# The __next__() method also allows you to do operations, and must return the next item in the sequence."
   ]
  },
  {
   "cell_type": "code",
   "execution_count": 12,
   "id": "778abdb1-62b0-42d9-8f64-def4c3534ce9",
   "metadata": {},
   "outputs": [
    {
     "name": "stdout",
     "output_type": "stream",
     "text": [
      "2\n",
      "4\n",
      "6\n",
      "8\n",
      "10\n"
     ]
    }
   ],
   "source": [
    "l1=[2,4,6,8,10,12,14,16,18,20]\n",
    "my_iter = iter(l1)\n",
    "\n",
    "print(next(my_iter))\n",
    "print(next(my_iter))\n",
    "print(next(my_iter))\n",
    "print(next(my_iter))\n",
    "print(next(my_iter))\n",
    "\n"
   ]
  },
  {
   "cell_type": "code",
   "execution_count": 13,
   "id": "81f58466-356a-4bc0-a087-047a6d608c65",
   "metadata": {},
   "outputs": [],
   "source": [
    "# Q4. What is a generator function in python? Why yield keyword is used? Give an example of a generator function."
   ]
  },
  {
   "cell_type": "code",
   "execution_count": 14,
   "id": "01a5d35c-1724-4271-a75a-fedafe7753a1",
   "metadata": {},
   "outputs": [
    {
     "name": "stdout",
     "output_type": "stream",
     "text": [
      "0\n",
      "1\n",
      "2\n",
      "3\n",
      "4\n",
      "5\n",
      "6\n",
      "7\n",
      "8\n",
      "9\n"
     ]
    }
   ],
   "source": [
    "# Generators are useful when we want to produce a large sequence of values, but we don't want to store all of them in memory at once.\n",
    "# the yield keyword is used to produce a value from the generator.\n",
    "def my_fun(n):\n",
    "\n",
    "    \n",
    "    i = 0\n",
    "    while i< n:\n",
    "        yield i\n",
    "        i += 1\n",
    "for i in my_fun(10):\n",
    "    print(i)\n",
    "                    "
   ]
  },
  {
   "cell_type": "code",
   "execution_count": 15,
   "id": "f16c0877-40a2-4191-98ac-567b1c1b6cca",
   "metadata": {},
   "outputs": [],
   "source": [
    "# Q5. Create a generator function for prime numbers less than 1000. Use the next() method to print the\n",
    "# first 20 prime numbers."
   ]
  },
  {
   "cell_type": "code",
   "execution_count": 4,
   "id": "cebecd06-919a-4818-917b-025b6b8f9a37",
   "metadata": {},
   "outputs": [
    {
     "name": "stdout",
     "output_type": "stream",
     "text": [
      "2\n",
      "3\n",
      "5\n",
      "7\n",
      "11\n",
      "13\n",
      "17\n",
      "19\n",
      "23\n",
      "29\n",
      "31\n",
      "37\n",
      "41\n",
      "43\n",
      "47\n",
      "53\n",
      "59\n",
      "61\n",
      "67\n",
      "71\n"
     ]
    }
   ],
   "source": [
    " def my_prime():\n",
    "        yield 2\n",
    "        l1 = [2]\n",
    "        n=3\n",
    "        while n <1000:\n",
    "            is_prime =True\n",
    "            for prime in l1:\n",
    "                if n%prime == 0 :\n",
    "                    is_prime = False\n",
    "                    break\n",
    "            if is_prime:\n",
    "                l1.append(n)\n",
    "                yield n\n",
    "            n+=2\n",
    "prime=my_prime()            \n",
    "for i in range(20):\n",
    "    print(next(prime))\n",
    "            \n"
   ]
  },
  {
   "cell_type": "code",
   "execution_count": 16,
   "id": "fbabd009-9afe-4196-a359-d2215f1170ff",
   "metadata": {},
   "outputs": [],
   "source": [
    "# Q6. Write a python program to print the first 10 Fibonacci numbers using a while loop."
   ]
  },
  {
   "cell_type": "code",
   "execution_count": 17,
   "id": "5b849e38-b907-45e2-a0ec-a267cd7166c6",
   "metadata": {},
   "outputs": [
    {
     "name": "stdout",
     "output_type": "stream",
     "text": [
      "0\n",
      "1\n",
      "1\n",
      "2\n",
      "3\n",
      "5\n",
      "8\n",
      "13\n",
      "21\n",
      "34\n"
     ]
    }
   ],
   "source": [
    "def my_fibonacci(n):\n",
    "    a, b = 0, 1\n",
    "    count = 0\n",
    "    while count < n:\n",
    "        print(a)\n",
    "        a, b = b, a + b\n",
    "        count += 1\n",
    "\n",
    "my_fibonacci(10)"
   ]
  },
  {
   "cell_type": "code",
   "execution_count": 18,
   "id": "214d5999-bc1b-4596-9950-6d57491f5e0f",
   "metadata": {},
   "outputs": [],
   "source": [
    "# Q7. Write a List Comprehension to iterate through the given string: ‘pwskills’.\n",
    "# Expected output: ['p', 'w', 's', 'k', 'i', 'l', 'l', 's']"
   ]
  },
  {
   "cell_type": "code",
   "execution_count": 19,
   "id": "2bda2430-bcd7-45e3-8537-8a7c7f0d6252",
   "metadata": {},
   "outputs": [
    {
     "data": {
      "text/plain": [
       "['p', 'w', 's', 'k', 'i', 'l', 'l', 's']"
      ]
     },
     "execution_count": 19,
     "metadata": {},
     "output_type": "execute_result"
    }
   ],
   "source": [
    "st= 'pwskills'\n",
    "[char for char in st]"
   ]
  },
  {
   "cell_type": "code",
   "execution_count": 20,
   "id": "d716cc97-0510-49f9-8743-c96fb92f7052",
   "metadata": {},
   "outputs": [],
   "source": [
    "# Q8. Write a python program to check whether a given number is Palindrome or not using a while loop."
   ]
  },
  {
   "cell_type": "code",
   "execution_count": 24,
   "id": "835ef678-054a-4499-9ee2-40885e94e131",
   "metadata": {},
   "outputs": [
    {
     "name": "stdin",
     "output_type": "stream",
     "text": [
      "Write a number to check whether it is an palindromme : 23432\n"
     ]
    },
    {
     "name": "stdout",
     "output_type": "stream",
     "text": [
      "Number is palindrome\n"
     ]
    }
   ],
   "source": [
    "user=int(input(\"Write a number to check whether it is an palindromme :\"))\n",
    "num=user\n",
    "digit=0\n",
    "reverse=0\n",
    "while user!=0:\n",
    "        digit=user%10\n",
    "        reverse=reverse*10+digit\n",
    "        user=user//10\n",
    "if reverse==num:\n",
    "    print(\"Number is palindrome\")\n",
    "else:\n",
    "    print(\"Number is not palindrome \")\n",
    "    \n",
    "    "
   ]
  },
  {
   "cell_type": "code",
   "execution_count": null,
   "id": "4f950d5a-6251-4ea1-8eae-70f09f6703ba",
   "metadata": {},
   "outputs": [],
   "source": [
    "# Q9. Write a code to print odd numbers from 1 to 100 using list comprehension.\n",
    "# Note: Use a list comprehension to create a list from 1 to 100 and use another List comprehension to filter\n",
    "# out odd numbers."
   ]
  },
  {
   "cell_type": "code",
   "execution_count": 35,
   "id": "08296c22-2116-46f8-a998-31431ba1676d",
   "metadata": {},
   "outputs": [],
   "source": [
    "\n",
    "list_ = [i for i in range(1,101)]\n",
    "l1=[]"
   ]
  },
  {
   "cell_type": "code",
   "execution_count": 41,
   "id": "fd0dc3a5-2401-4aaa-8059-c9d187139c2e",
   "metadata": {},
   "outputs": [
    {
     "data": {
      "text/plain": [
       "<generator object <genexpr> at 0x7f6a1ce2f680>"
      ]
     },
     "execution_count": 41,
     "metadata": {},
     "output_type": "execute_result"
    }
   ],
   "source": [
    "(l1.append(j) for j in list_ if j%2!=0)\n"
   ]
  },
  {
   "cell_type": "code",
   "execution_count": 42,
   "id": "8535fd96-2ba6-4192-be6d-06c59153cdfe",
   "metadata": {},
   "outputs": [
    {
     "data": {
      "text/plain": [
       "[1,\n",
       " 3,\n",
       " 5,\n",
       " 7,\n",
       " 9,\n",
       " 11,\n",
       " 13,\n",
       " 15,\n",
       " 17,\n",
       " 19,\n",
       " 21,\n",
       " 23,\n",
       " 25,\n",
       " 27,\n",
       " 29,\n",
       " 31,\n",
       " 33,\n",
       " 35,\n",
       " 37,\n",
       " 39,\n",
       " 41,\n",
       " 43,\n",
       " 45,\n",
       " 47,\n",
       " 49,\n",
       " 51,\n",
       " 53,\n",
       " 55,\n",
       " 57,\n",
       " 59,\n",
       " 61,\n",
       " 63,\n",
       " 65,\n",
       " 67,\n",
       " 69,\n",
       " 71,\n",
       " 73,\n",
       " 75,\n",
       " 77,\n",
       " 79,\n",
       " 81,\n",
       " 83,\n",
       " 85,\n",
       " 87,\n",
       " 89,\n",
       " 91,\n",
       " 93,\n",
       " 95,\n",
       " 97,\n",
       " 99]"
      ]
     },
     "execution_count": 42,
     "metadata": {},
     "output_type": "execute_result"
    }
   ],
   "source": [
    "l1"
   ]
  },
  {
   "cell_type": "code",
   "execution_count": null,
   "id": "ac64c83f-cc3d-41da-ac74-4802c04056d4",
   "metadata": {},
   "outputs": [],
   "source": []
  }
 ],
 "metadata": {
  "kernelspec": {
   "display_name": "Python 3 (ipykernel)",
   "language": "python",
   "name": "python3"
  },
  "language_info": {
   "codemirror_mode": {
    "name": "ipython",
    "version": 3
   },
   "file_extension": ".py",
   "mimetype": "text/x-python",
   "name": "python",
   "nbconvert_exporter": "python",
   "pygments_lexer": "ipython3",
   "version": "3.10.8"
  }
 },
 "nbformat": 4,
 "nbformat_minor": 5
}
