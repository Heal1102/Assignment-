{
 "cells": [
  {
   "cell_type": "markdown",
   "id": "fa970e33-0ec2-4e60-86dc-8439191670d1",
   "metadata": {},
   "source": [
    "# Q1. What is the Probability density function?"
   ]
  },
  {
   "cell_type": "markdown",
   "id": "7d9b766a-d80a-4767-a5d9-97a2867ba876",
   "metadata": {},
   "source": [
    "Answer : The Probability Density Function (PDF) describes the likelihood of a continuous random variable taking on a specific value within a given range. It represents the relative likelihood of observing different values and is used in probability theory and statistics to analyze continuous distributions."
   ]
  },
  {
   "cell_type": "markdown",
   "id": "319b9dad-acf9-47d3-89f8-85eaad234f83",
   "metadata": {},
   "source": [
    "# Q2. What are the types of Probability distribution?"
   ]
  },
  {
   "cell_type": "markdown",
   "id": "9700d50f-9ac0-4ab0-8485-7b32d662d795",
   "metadata": {},
   "source": [
    "Answer : There are several types of probability distributions, including:\n",
    "1. Discrete distributions: Probability mass function assigns probabilities to discrete outcomes.\n",
    "2. Continuous distributions: Probability density function describes probabilities over continuous intervals.\n",
    "3. Common examples include the binomial, Poisson, normal (Gaussian), exponential, and uniform distributions, each with distinct characteristics and applications."
   ]
  },
  {
   "cell_type": "markdown",
   "id": "5df63298-9ba7-402b-b7a0-e5a86a557bce",
   "metadata": {},
   "source": [
    "# Q3. Write a Python function to calculate the probability density function of a normal distribution with given mean and standard deviation at a given point."
   ]
  },
  {
   "cell_type": "code",
   "execution_count": 8,
   "id": "f469fb88-5eb9-41aa-8eec-a926b9e1d864",
   "metadata": {},
   "outputs": [
    {
     "name": "stdout",
     "output_type": "stream",
     "text": [
      "PDF at x = 1 : 0.24197072451914337\n"
     ]
    }
   ],
   "source": [
    "import numpy as np\n",
    "import math\n",
    "\n",
    "def normal_pdf(x, mean, std_dev):\n",
    "    \"\"\"\n",
    "    Calculate the probability density function (PDF) of a normal distribution at a given point x.\n",
    "    \n",
    "    Parameters:\n",
    "        x (float): The point at which to evaluate the PDF.\n",
    "        mean (float): The mean of the normal distribution.\n",
    "        std_dev (float): The standard deviation of the normal distribution.\n",
    "    \n",
    "    Returns:\n",
    "        float: The value of the PDF at the given point x.\n",
    "    \"\"\"\n",
    "    exponent = -((x - mean) ** 2) / (2 * std_dev ** 2)\n",
    "    pdf = (1 / (std_dev * np.sqrt(2 * np.pi))) * np.exp(exponent)\n",
    "    return pdf\n",
    "\n",
    "# Example usage:\n",
    "mean = 0\n",
    "std_dev = 1\n",
    "x = 1\n",
    "pdf_value = normal_pdf(x, mean, std_dev)\n",
    "print(\"PDF at x =\", x, \":\", pdf_value)\n"
   ]
  },
  {
   "cell_type": "markdown",
   "id": "ef3ae97f-c423-41f9-941e-de5dd337dc70",
   "metadata": {},
   "source": [
    "# Q4. What are the properties of Binomial distribution? Give two examples of events where binomial\n",
    "# distribution can be applied."
   ]
  },
  {
   "cell_type": "markdown",
   "id": "30f3b775-a2ed-45fc-837a-d4e960a5b717",
   "metadata": {},
   "source": [
    "Answer : The Binomial distribution describes the probability of obtaining a certain number of successes in a fixed number of independent Bernoulli trials, where each trial has a constant probability of success \\( p \\). Its properties include discrete outcomes, a fixed number of trials \\( n \\), and two parameters: \\( n \\) (number of trials) and \\( p \\) (probability of success).\n",
    "\n",
    "Two examples of events where the Binomial distribution can be applied are:\n",
    "### 1. Flipping a biased coin \\( n \\) times and counting the number of heads.\n",
    "### 2. Conducting a series of \\( n \\) independent medical tests with a certain probability \\( p \\) of each test correctly diagnosing a disease, and counting the number of correct diagnoses."
   ]
  },
  {
   "cell_type": "markdown",
   "id": "93b5fcb8-9000-4cd3-8f43-20f45506e8b5",
   "metadata": {},
   "source": [
    "# Q5. Generate a random sample of size 1000 from a binomial distribution with probability of success 0.4 and plot a histogram of the results using matplotlib."
   ]
  },
  {
   "cell_type": "code",
   "execution_count": 9,
   "id": "f96fe99e-4d5f-4248-9c74-2b0e87b9d04e",
   "metadata": {},
   "outputs": [
    {
     "data": {
      "image/png": "[encoded data removed]",
      "text/plain": [
       "<Figure size 640x480 with 1 Axes>"
      ]
     },
     "metadata": {},
     "output_type": "display_data"
    }
   ],
   "source": [
    "import numpy as np\n",
    "import matplotlib.pyplot as plt\n",
    "\n",
    "# Generate random sample from binomial distribution\n",
    "sample_size = 1000\n",
    "probability_success = 0.4\n",
    "random_sample = np.random.binomial(n=1, p=probability_success, size=sample_size)\n",
    "\n",
    "# Plot histogram\n",
    "plt.hist(random_sample, bins=2, color='skyblue', edgecolor='black')\n",
    "plt.title('Histogram of Random Sample from Binomial Distribution')\n",
    "plt.xlabel('Outcome (0 = Failure, 1 = Success)')\n",
    "plt.ylabel('Frequency')\n",
    "plt.xticks([0, 1])\n",
    "plt.show()\n"
   ]
  },
  {
   "cell_type": "markdown",
   "id": "2dda8d20-bf8b-4f3a-a48a-1869bf115c65",
   "metadata": {},
   "source": [
    "# Q6. Write a Python function to calculate the cumulative distribution function of a Poisson distribution with given mean at a given point."
   ]
  },
  {
   "cell_type": "code",
   "execution_count": 10,
   "id": "e911c21a-c2e4-4504-b307-92d2835f4073",
   "metadata": {},
   "outputs": [
    {
     "name": "stdout",
     "output_type": "stream",
     "text": [
      "CDF at k = 2 : 0.42319008112684353\n"
     ]
    }
   ],
   "source": [
    "import math\n",
    "\n",
    "def poisson_cdf(k, mean):\n",
    "    \"\"\"\n",
    "    Calculate the cumulative distribution function (CDF) of a Poisson distribution at a given point k.\n",
    "    \n",
    "    Parameters:\n",
    "        k (int): The point at which to evaluate the CDF.\n",
    "        mean (float): The mean of the Poisson distribution.\n",
    "    \n",
    "    Returns:\n",
    "        float: The cumulative probability up to the given point k.\n",
    "    \"\"\"\n",
    "    cdf = 0\n",
    "    for i in range(k + 1):\n",
    "        cdf += math.exp(-mean) * (mean ** i) / math.factorial(i)\n",
    "    return cdf\n",
    "\n",
    "# Example usage:\n",
    "mean = 3\n",
    "k = 2\n",
    "cdf_value = poisson_cdf(k, mean)\n",
    "print(\"CDF at k =\", k, \":\", cdf_value)\n"
   ]
  },
  {
   "cell_type": "markdown",
   "id": "d5e9d78e-f5ad-4424-be93-fc1b3aaf74d0",
   "metadata": {},
   "source": [
    "# Q7. How Binomial distribution different from Poisson distribution?"
   ]
  },
  {
   "cell_type": "markdown",
   "id": "abfbfc0f-7ad2-4fcc-a937-9a4720fb92ca",
   "metadata": {},
   "source": [
    "Answewr :  The Binomial distribution models the number of successes in a fixed number of independent trials with a constant probability of success. In contrast, the Poisson distribution models the number of events occurring in a fixed interval of time or space, assuming a constant average rate of occurrence."
   ]
  },
  {
   "cell_type": "markdown",
   "id": "90740728-a816-4d6d-8988-2cf4ffb2e1d3",
   "metadata": {},
   "source": [
    "# Q8. Generate a random sample of size 1000 from a Poisson distribution with mean 5 and calculate the sample mean and variance."
   ]
  },
  {
   "cell_type": "code",
   "execution_count": 11,
   "id": "68132ff3-4e3a-484b-9a0d-0d777aa54abe",
   "metadata": {},
   "outputs": [
    {
     "name": "stdout",
     "output_type": "stream",
     "text": [
      "Sample Mean: 4.912\n",
      "Sample Variance: 5.118256\n"
     ]
    }
   ],
   "source": [
    "import numpy as np\n",
    "\n",
    "# Generate random sample from Poisson distribution\n",
    "sample_size = 1000\n",
    "mean = 5\n",
    "random_sample = np.random.poisson(mean, size=sample_size)\n",
    "\n",
    "# Calculate sample mean and variance\n",
    "sample_mean = np.mean(random_sample)\n",
    "sample_variance = np.var(random_sample)\n",
    "\n",
    "# Print results\n",
    "print(\"Sample Mean:\", sample_mean)\n",
    "print(\"Sample Variance:\", sample_variance)\n"
   ]
  },
  {
   "cell_type": "markdown",
   "id": "54363348-e2de-4aa9-aa33-299de86e3db3",
   "metadata": {},
   "source": [
    "# Q9. How mean and variance are related in Binomial distribution and Poisson distribution?"
   ]
  },
  {
   "cell_type": "code",
   "execution_count": 12,
   "id": "04b8ee5a-20bc-475a-8935-7b2823de3e14",
   "metadata": {},
   "outputs": [],
   "source": [
    "\n",
    "# Binomial distribution\n",
    "n=1\n",
    "p=1\n",
    "mu_binomial = n * p\n",
    "variance_binomial = n * p * (1 - p)\n",
    "\n",
    "# Poisson distribution\n",
    "mu_poisson = mean\n",
    "variance_poisson = mean\n"
   ]
  },
  {
   "cell_type": "markdown",
   "id": "a8919689-357c-41ea-b600-efe0d2060c3c",
   "metadata": {},
   "source": [
    "# Q10. In normal distribution with respect to mean position, where does the least frequent data appear?"
   ]
  },
  {
   "cell_type": "markdown",
   "id": "31d206c9-ccc9-4b7e-a0b6-15b137ed1e78",
   "metadata": {},
   "source": [
    "Answer : In a normal distribution, the least frequent data appears at the tails, which are the extreme ends of the distribution, farthest away from the mean. As the distance from the mean increases in either direction, the probability density decreases, indicating lower frequencies of occurrence."
   ]
  },
  {
   "cell_type": "code",
   "execution_count": null,
   "id": "1fa1ec99-af7d-420c-a5c1-1ea23a3cd58d",
   "metadata": {},
   "outputs": [],
   "source": []
  },
  {
   "cell_type": "code",
   "execution_count": null,
   "id": "0d7d70c6-8ba5-4fdc-942d-efa61c351ffc",
   "metadata": {},
   "outputs": [],
   "source": []
  }
 ],
 "metadata": {
  "kernelspec": {
   "display_name": "Python 3 (ipykernel)",
   "language": "python",
   "name": "python3"
  },
  "language_info": {
   "codemirror_mode": {
    "name": "ipython",
    "version": 3
   },
   "file_extension": ".py",
   "mimetype": "text/x-python",
   "name": "python",
   "nbconvert_exporter": "python",
   "pygments_lexer": "ipython3",
   "version": "3.10.8"
  }
 },
 "nbformat": 4,
 "nbformat_minor": 5
}
