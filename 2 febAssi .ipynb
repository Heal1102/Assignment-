{
 "cells": [
  {
   "cell_type": "code",
   "execution_count": 1,
   "id": "e3555558-e8be-4b1a-b086-7a43d3f18738",
   "metadata": {},
   "outputs": [],
   "source": [
    "# Q1. Explain with an example each when to use a for loop and a while loop."
   ]
  },
  {
   "cell_type": "code",
   "execution_count": 2,
   "id": "59e9de21-ea2e-4065-88e2-269c88abf52a",
   "metadata": {},
   "outputs": [
    {
     "name": "stdout",
     "output_type": "stream",
     "text": [
      "1\n",
      "2\n",
      "3\n",
      "4\n",
      "5\n",
      "6\n",
      "7\n",
      "8\n",
      "9\n"
     ]
    }
   ],
   "source": [
    "# for loop :\n",
    "# A for loop is a control flow statement that executes code for a predefined number of iterations.\n",
    "# When the number of iterations is already known, the for loop is used.\n",
    "l=[1,2,3,4,5,6,7,8,9]\n",
    "for i in l:\n",
    "    print(i)"
   ]
  },
  {
   "cell_type": "code",
   "execution_count": 3,
   "id": "8b0f18d7-c3da-46d4-963c-151ac8006114",
   "metadata": {},
   "outputs": [
    {
     "name": "stdin",
     "output_type": "stream",
     "text": [
      "Enter a number: 10\n"
     ]
    },
    {
     "data": {
      "text/plain": [
       "55"
      ]
     },
     "execution_count": 3,
     "metadata": {},
     "output_type": "execute_result"
    }
   ],
   "source": [
    "# while loop:\n",
    "# A loop that runs a single statement or a set of statements for a given true condition.\n",
    "# When the number of iterations is unknown, a \"while\" loop is used.\n",
    "# The statement is repeated until the boolean value is false.\n",
    "# Because the condition is tested at the beginning of a while loop, it is also known as the pre-test loop.\n",
    "n=int(input(\"Enter a number:\"))\n",
    "add=0\n",
    "while n>=0:\n",
    "    add=add+n\n",
    "    n=n-1\n",
    "add    \n",
    "    "
   ]
  },
  {
   "cell_type": "code",
   "execution_count": 4,
   "id": "b2467ee3-a669-4b47-924c-3710c0369071",
   "metadata": {},
   "outputs": [],
   "source": [
    "# 2.Write a python program to print the sum and product of the first 10 natural numbers using for\n",
    "# and while loop."
   ]
  },
  {
   "cell_type": "code",
   "execution_count": 5,
   "id": "7a86e5e5-aca4-4dc1-a47a-694d30a62145",
   "metadata": {},
   "outputs": [
    {
     "data": {
      "text/plain": [
       "55"
      ]
     },
     "execution_count": 5,
     "metadata": {},
     "output_type": "execute_result"
    }
   ],
   "source": [
    "add=0\n",
    "product=1\n",
    "for i in range(1,11):\n",
    "    add=add+i\n",
    "    product=product*i\n",
    "add\n"
   ]
  },
  {
   "cell_type": "code",
   "execution_count": 6,
   "id": "8149405d-8970-4c86-8f75-ff0ae98aecaf",
   "metadata": {},
   "outputs": [
    {
     "data": {
      "text/plain": [
       "3628800"
      ]
     },
     "execution_count": 6,
     "metadata": {},
     "output_type": "execute_result"
    }
   ],
   "source": [
    "product"
   ]
  },
  {
   "cell_type": "code",
   "execution_count": 7,
   "id": "303681b1-4527-4458-8c4a-f6a8db28b8d7",
   "metadata": {},
   "outputs": [],
   "source": [
    "i=10\n",
    "add=0\n",
    "product=1\n",
    "while i>0:\n",
    "    add=add+i\n",
    "    product=product*i\n",
    "    i=i-1\n",
    "          "
   ]
  },
  {
   "cell_type": "code",
   "execution_count": 8,
   "id": "50d6f133-a50a-4d41-8a37-1aea534f9cdd",
   "metadata": {},
   "outputs": [
    {
     "data": {
      "text/plain": [
       "55"
      ]
     },
     "execution_count": 8,
     "metadata": {},
     "output_type": "execute_result"
    }
   ],
   "source": [
    "add"
   ]
  },
  {
   "cell_type": "code",
   "execution_count": 9,
   "id": "8a25db9a-32f3-45c5-8da5-ee478dca63fb",
   "metadata": {},
   "outputs": [
    {
     "data": {
      "text/plain": [
       "3628800"
      ]
     },
     "execution_count": 9,
     "metadata": {},
     "output_type": "execute_result"
    }
   ],
   "source": [
    "product"
   ]
  },
  {
   "cell_type": "code",
   "execution_count": 10,
   "id": "c8b24ed8-429d-41bd-8650-81007f22a35b",
   "metadata": {},
   "outputs": [],
   "source": [
    "#Create a python program to compute the electricity bill for a household.\n",
    "\n",
    "#Q4. Create a list of numbers from 1 to 100. Use for loop and while loop to calculate the cube of each\n",
    "#number and if the cube of that number is divisible by 4 or 5 then append that number in a list and print\n",
    "#that list.\n",
    "#The per-unit charges in rupees are as follows: For the first 100 units, the user will be charged Rs. 4.5 per\n",
    "#unit, for the next 100 units, the user will be charged Rs. 6 per unit, and for the next 100 units, the user will\n",
    "#be charged Rs. 10 per unit, After 300 units and above the user will be charged Rs. 20 per unit.\n",
    "\n"
   ]
  },
  {
   "cell_type": "code",
   "execution_count": 11,
   "id": "cb139097-30ee-44e3-8a1b-dfbb01e8efda",
   "metadata": {},
   "outputs": [
    {
     "name": "stdin",
     "output_type": "stream",
     "text": [
      "Enter the unit consumed by you:  310\n"
     ]
    },
    {
     "name": "stdout",
     "output_type": "stream",
     "text": [
      "Your bill is :Rs. 2250.0\n"
     ]
    }
   ],
   "source": [
    "unit=int(input(\"Enter the unit consumed by you: \"))\n",
    "bill=1\n",
    "if unit<=100:\n",
    "    print(\"Your bill is :\",unit*4.5)\n",
    "elif unit>100 and unit<=200:\n",
    "    bill= (unit-100)*6+(100*4.5)\n",
    "    print( \"Your bill is :Rs.\",bill)\n",
    "elif unit>200 and unit<=300:\n",
    "    bill=(unit-200)*10+(100*4.5)+(100*6)\n",
    "    print( \"Your bill is :Rs.\",bill)\n",
    "else:\n",
    "    bill=(100*4.5)+(100*6)+(100*10)+(unit-300)*20\n",
    "    print( \"Your bill is :Rs.\",bill)\n",
    "    "
   ]
  },
  {
   "cell_type": "code",
   "execution_count": 12,
   "id": "23f21ddb-2525-4bd5-a036-907e894b9249",
   "metadata": {},
   "outputs": [],
   "source": [
    "# Q4. Create a list of numbers from 1 to 100. Use for loop and while loop to calculate the cube of each\n",
    "# number and if the cube of that number is divisible by 4 or 5 then append that number in a list and print\n",
    "# that list."
   ]
  },
  {
   "cell_type": "code",
   "execution_count": 13,
   "id": "04133a38-b3ff-450e-acf5-532e5647de18",
   "metadata": {},
   "outputs": [
    {
     "name": "stdout",
     "output_type": "stream",
     "text": [
      "[8, 64, 125, 216, 512, 1000, 1728, 2744, 3375, 4096, 5832, 8000, 10648, 13824, 15625, 17576, 21952, 27000, 32768, 39304, 42875, 46656, 54872, 64000, 74088, 85184, 91125, 97336, 110592, 125000, 140608, 157464, 166375, 175616, 195112, 216000, 238328, 262144, 274625, 287496, 314432, 343000, 373248, 405224, 421875, 438976, 474552, 512000, 551368, 592704, 614125, 636056, 681472, 729000, 778688, 830584, 857375, 884736, 941192, 1000000]\n"
     ]
    }
   ],
   "source": [
    "#Code using for loop:\n",
    "list_100=[i for i in range(1,101)]\n",
    "l1=[]\n",
    "for j in list_100:\n",
    "    j=j**3\n",
    "    if j%4==0 or j%5==0:\n",
    "        l1.append(j)\n",
    "print(l1)            \n",
    "   "
   ]
  },
  {
   "cell_type": "code",
   "execution_count": 14,
   "id": "6c4794ec-8fba-4bde-903d-96a49d74a061",
   "metadata": {},
   "outputs": [],
   "source": [
    "# Q5. Write a program to filter count vowels in the below-given string.\n",
    "# string = \"I want to become a data scientist\""
   ]
  },
  {
   "cell_type": "code",
   "execution_count": 15,
   "id": "57f18029-63cd-4bdc-8fa9-3d45a3b24936",
   "metadata": {},
   "outputs": [
    {
     "name": "stdout",
     "output_type": "stream",
     "text": [
      "No. of vowels present in string is :  9\n"
     ]
    }
   ],
   "source": [
    "string=\"I want to be a data scientist\"\n",
    "count=0\n",
    "for i in string:\n",
    "    if i=='a' or i=='e' or i=='i' or i=='o' or i=='u':\n",
    "        count=count+1\n",
    "print(\"No. of vowels present in string is : \",count)        "
   ]
  }
 ],
 "metadata": {
  "kernelspec": {
   "display_name": "Python 3 (ipykernel)",
   "language": "python",
   "name": "python3"
  },
  "language_info": {
   "codemirror_mode": {
    "name": "ipython",
    "version": 3
   },
   "file_extension": ".py",
   "mimetype": "text/x-python",
   "name": "python",
   "nbconvert_exporter": "python",
   "pygments_lexer": "ipython3",
   "version": "3.10.8"
  }
 },
 "nbformat": 4,
 "nbformat_minor": 5
}
