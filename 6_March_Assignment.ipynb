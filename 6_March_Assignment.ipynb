{
 "cells": [
  {
   "cell_type": "markdown",
   "id": "84e31d75-25a8-4df8-a15d-78af357fa935",
   "metadata": {},
   "source": [
    "Q1. What is Statistics?\n",
    "Q2. Define the different types of statistics and give an example of when each type might be used.\n",
    "Q3. What are the different types of data and how do they differ from each other? Provide an example of\n",
    "each type of data.\n",
    "\n",
    "Q5. Explain the concept of levels of measurement and give an example of a variable for each level.\n",
    "Q6. Why is it important to understand the level of measurement when analyzing data? Provide an\n",
    "example to illustrate your answer.\n",
    "Q7. How nominal data type is different from ordinal data type.\n",
    "Q8. Which type of plot can be used to display data in terms of range?\n",
    "Q9. Describe the difference between descriptive and inferential statistics. Give an example of each\n",
    "type of statistics and explain how they are used.\n",
    "Q10. What are some common measures of central tendency and variability used in statistics? Explain\n",
    "how each measure can be used to describe a dataset."
   ]
  },
  {
   "cell_type": "markdown",
   "id": "718a4ee4-49da-4157-a189-b0fe496bace6",
   "metadata": {},
   "source": [
    "# Q1. What is Statistics?"
   ]
  },
  {
   "cell_type": "raw",
   "id": "b6833579-f636-4e4c-a517-a0295a60a978",
   "metadata": {},
   "source": [
    " Statistics is a branch of mathematics that involves collecting, analyzing, interpreting, and presenting data to make informed decisions or draw conclusions about a population or phenomenon."
   ]
  },
  {
   "cell_type": "markdown",
   "id": "e1b45b39-12c7-4a61-8d5c-5e89ade6ebbb",
   "metadata": {},
   "source": [
    "# Q2. Define the different types of statistics and give an example of when each type might be used."
   ]
  },
  {
   "cell_type": "raw",
   "id": "94bbe7eb-8c80-4d78-bb02-97fcf9b2a2b2",
   "metadata": {},
   "source": [
    "Descriptive statistics summarize and describe data (e.g., mean, median). Inferential statistics make inferences or predictions about a population based on sample data (e.g., hypothesis testing)."
   ]
  },
  {
   "cell_type": "markdown",
   "id": "ceb2f7e5-eabb-4902-96d1-b45bea68ab49",
   "metadata": {},
   "source": [
    "# Q3. What are the different types of data and how do they differ from each other? Provide an example of each type of data."
   ]
  },
  {
   "cell_type": "raw",
   "id": "9469dca8-f809-4d2d-a3d3-b8a0ab551e20",
   "metadata": {},
   "source": [
    "Types of data include nominal (categories with no inherent order), ordinal (categories with a distinct order), interval (equal intervals between values), and ratio (true zero point). For example, nominal data: eye color; ordinal data: education level; interval data: temperature in Celsius; ratio data: income."
   ]
  },
  {
   "cell_type": "markdown",
   "id": "911c1b71-b094-47d9-9c27-1561985a24fa",
   "metadata": {},
   "source": [
    "# Q4. Categorise the following datasets with respect to quantitative and qualitative data types:\n",
    "(i) Grading in exam: A+, A, B+, B, C+, C, D, E\n",
    "(ii) Colour of mangoes: yellow, green, orange, red\n",
    "(iii) Height data of a class: [178.9, 179, 179.5, 176, 177.2, 178.3, 175.8,...]\n",
    "(iv) Number of mangoes exported by a farm: [500, 600, 478, 672, ...]"
   ]
  },
  {
   "cell_type": "raw",
   "id": "46a4d7b1-5e07-4704-884d-592346dafed2",
   "metadata": {},
   "source": [
    "(i) Grading in exam: Qualitative (ordinal) data.\n",
    "(ii) Colour of mangoes: Qualitative (nominal) data.\n",
    "(iii) Height data of a class: Quantitative (continuous) data.\n",
    "(iv) Number of mangoes exported by a farm: Quantitative (discrete) data."
   ]
  },
  {
   "cell_type": "markdown",
   "id": "3f5426c0-82b7-488d-9e00-b98cf8290a2e",
   "metadata": {},
   "source": [
    "# Q5. Explain the concept of levels of measurement and give an example of a variable for each level."
   ]
  },
  {
   "cell_type": "raw",
   "id": "7eacc83a-6831-4ded-a620-45753aebe3df",
   "metadata": {},
   "source": [
    " Levels of measurement classify data based on their characteristics and properties, including nominal (categories), ordinal (ordered categories), interval (equal intervals with no true zero), and ratio (equal intervals with a true zero). Example: Nominal - eye color, Ordinal - education level, Interval - temperature in Celsius, Ratio - income."
   ]
  },
  {
   "cell_type": "markdown",
   "id": "4fd029c5-239c-440b-9087-634e7e42930b",
   "metadata": {},
   "source": [
    "# Q6. Why is it important to understand the level of measurement when analyzing data? Provide an example to illustrate your answer."
   ]
  },
  {
   "cell_type": "raw",
   "id": "1f00aa94-52be-4ef2-a640-e4eeeb2f2080",
   "metadata": {},
   "source": [
    "Understanding the level of measurement is crucial for selecting appropriate statistical analyses. For example, using the mean to describe ordinal data can be misleading as it may not accurately reflect the underlying order."
   ]
  },
  {
   "cell_type": "markdown",
   "id": "d76b816e-46ee-448f-940d-23a6a88aea47",
   "metadata": {},
   "source": [
    "# Q7. How nominal data type is different from ordinal data type."
   ]
  },
  {
   "cell_type": "raw",
   "id": "89ad325f-73b4-4318-a1aa-070511096462",
   "metadata": {},
   "source": [
    "Nominal data represent categories with no inherent order (e.g., eye color), while ordinal data represent categories with a distinct order (e.g., education level)."
   ]
  },
  {
   "cell_type": "markdown",
   "id": "2856e354-11a3-45a2-b75b-2e11226ff082",
   "metadata": {},
   "source": [
    "# Q8. Which type of plot can be used to display data in terms of range?"
   ]
  },
  {
   "cell_type": "raw",
   "id": "f3a13b42-332e-43c0-b64b-84f866a08dfa",
   "metadata": {},
   "source": [
    "A boxplot can display data in terms of range, showing the minimum, first quartile, median, third quartile, and maximum."
   ]
  },
  {
   "cell_type": "markdown",
   "id": "50d76cd6-b7a0-4afa-bfec-f97f5b8623e4",
   "metadata": {},
   "source": [
    "# Q9. Describe the difference between descriptive and inferential statistics. Give an example of each type of statistics and explain how they are used."
   ]
  },
  {
   "cell_type": "raw",
   "id": "6b57b4ac-cc5b-4fc5-93bb-8be017b7931c",
   "metadata": {},
   "source": [
    " Descriptive statistics summarize data (e.g., mean, standard deviation), while inferential statistics make predictions or inferences about a population based on sample data (e.g., hypothesis testing)."
   ]
  },
  {
   "cell_type": "markdown",
   "id": "8db241fb-48f6-409a-b98d-385c25e9c034",
   "metadata": {},
   "source": [
    "# Q10. What are some common measures of central tendency and variability used in statistics? Explain how each measure can be used to describe a dataset."
   ]
  },
  {
   "cell_type": "raw",
   "id": "65061f69-878e-4191-8354-091144b13536",
   "metadata": {},
   "source": [
    "Common measures of central tendency include mean, median, and mode, which summarize the central or typical value of a dataset. Measures of variability include range, variance, and standard deviation, which quantify the spread or dispersion of data."
   ]
  },
  {
   "cell_type": "code",
   "execution_count": null,
   "id": "e4da79d7-ca8c-4392-b2b0-9fbc6f2e8ee9",
   "metadata": {},
   "outputs": [],
   "source": []
  }
 ],
 "metadata": {
  "kernelspec": {
   "display_name": "Python 3 (ipykernel)",
   "language": "python",
   "name": "python3"
  },
  "language_info": {
   "codemirror_mode": {
    "name": "ipython",
    "version": 3
   },
   "file_extension": ".py",
   "mimetype": "text/x-python",
   "name": "python",
   "nbconvert_exporter": "python",
   "pygments_lexer": "ipython3",
   "version": "3.10.8"
  }
 },
 "nbformat": 4,
 "nbformat_minor": 5
}
