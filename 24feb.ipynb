{
 "cells": [
  {
   "cell_type": "code",
   "execution_count": 1,
   "id": "b6bdfe7d-0f9c-4d30-a53e-761531a4b175",
   "metadata": {},
   "outputs": [],
   "source": [
    "#Q1. List any five functions of the pandas library with execution."
   ]
  },
  {
   "cell_type": "code",
   "execution_count": 2,
   "id": "a559693b-5116-42a5-9ef1-c796236f87e2",
   "metadata": {},
   "outputs": [],
   "source": [
    "import pandas as pd"
   ]
  },
  {
   "cell_type": "code",
   "execution_count": 3,
   "id": "c0900345-6fe8-4a4b-b612-de755af59cbe",
   "metadata": {},
   "outputs": [],
   "source": [
    "# 1.df=pd.read_csv(\"Titanic.csv\")"
   ]
  },
  {
   "cell_type": "code",
   "execution_count": 4,
   "id": "f3257ba0-2504-477c-8bfd-06af500c9bd6",
   "metadata": {},
   "outputs": [],
   "source": [
    "#2. df.head()"
   ]
  },
  {
   "cell_type": "code",
   "execution_count": 5,
   "id": "1830d5e7-1a61-4d63-8f45-230b9471f909",
   "metadata": {},
   "outputs": [],
   "source": [
    "# 5.df.tail()"
   ]
  },
  {
   "cell_type": "code",
   "execution_count": 6,
   "id": "b0112044-32c7-4d62-adb6-bd6f03a1905f",
   "metadata": {},
   "outputs": [],
   "source": [
    "# 4.df.describe()"
   ]
  },
  {
   "cell_type": "code",
   "execution_count": 7,
   "id": "72ddcd79-82ed-44bd-9c0e-94ab0c82484a",
   "metadata": {},
   "outputs": [],
   "source": [
    "# 5. df.pivot table()"
   ]
  },
  {
   "cell_type": "code",
   "execution_count": 8,
   "id": "f94641e0-574a-4a21-9e5e-4578d77f1794",
   "metadata": {},
   "outputs": [],
   "source": [
    "data = {\n",
    "    'City': ['New York', 'Los Angeles', 'New York', 'Chicago', 'Los Angeles'],\n",
    "    'Gender': ['Female', 'Male', 'Female', 'Male', 'Male'],\n",
    "    'Age': [25, 30, 22, 28, 32]\n",
    "}\n",
    "df = pd.DataFrame(data)"
   ]
  },
  {
   "cell_type": "code",
   "execution_count": 9,
   "id": "98456485-d06c-4061-b2f1-2d0f8807e248",
   "metadata": {},
   "outputs": [],
   "source": [
    "pivot_table = df.pivot_table(index='City', columns='Gender', values='Age', aggfunc='mean')\n"
   ]
  },
  {
   "cell_type": "code",
   "execution_count": 10,
   "id": "f97e622f-927f-4c50-911f-86840f68fdc6",
   "metadata": {},
   "outputs": [
    {
     "data": {
      "text/html": [
       "<div>\n",
       "<style scoped>\n",
       "    .dataframe tbody tr th:only-of-type {\n",
       "        vertical-align: middle;\n",
       "    }\n",
       "\n",
       "    .dataframe tbody tr th {\n",
       "        vertical-align: top;\n",
       "    }\n",
       "\n",
       "    .dataframe thead th {\n",
       "        text-align: right;\n",
       "    }\n",
       "</style>\n",
       "<table border=\"1\" class=\"dataframe\">\n",
       "  <thead>\n",
       "    <tr style=\"text-align: right;\">\n",
       "      <th>Gender</th>\n",
       "      <th>Female</th>\n",
       "      <th>Male</th>\n",
       "    </tr>\n",
       "    <tr>\n",
       "      <th>City</th>\n",
       "      <th></th>\n",
       "      <th></th>\n",
       "    </tr>\n",
       "  </thead>\n",
       "  <tbody>\n",
       "    <tr>\n",
       "      <th>Chicago</th>\n",
       "      <td>NaN</td>\n",
       "      <td>28.0</td>\n",
       "    </tr>\n",
       "    <tr>\n",
       "      <th>Los Angeles</th>\n",
       "      <td>NaN</td>\n",
       "      <td>31.0</td>\n",
       "    </tr>\n",
       "    <tr>\n",
       "      <th>New York</th>\n",
       "      <td>23.5</td>\n",
       "      <td>NaN</td>\n",
       "    </tr>\n",
       "  </tbody>\n",
       "</table>\n",
       "</div>"
      ],
      "text/plain": [
       "Gender       Female  Male\n",
       "City                     \n",
       "Chicago         NaN  28.0\n",
       "Los Angeles     NaN  31.0\n",
       "New York       23.5   NaN"
      ]
     },
     "execution_count": 10,
     "metadata": {},
     "output_type": "execute_result"
    }
   ],
   "source": [
    "pivot_table"
   ]
  },
  {
   "cell_type": "code",
   "execution_count": 11,
   "id": "244e80de-b0a1-4415-b728-2ad4e118b855",
   "metadata": {},
   "outputs": [],
   "source": [
    "#Q2. Given a Pandas DataFrame df with columns 'A', 'B', and 'C', write a Python function to re-index the\n",
    "# DataFrame with a new index that starts from 1 and increments by 2 for each row."
   ]
  },
  {
   "cell_type": "code",
   "execution_count": 12,
   "id": "fc86be8a-bfbf-4bbf-9c6a-e3dffb3ca1df",
   "metadata": {},
   "outputs": [
    {
     "name": "stdout",
     "output_type": "stream",
     "text": [
      "    A    B     C\n",
      "1  10  100  1000\n",
      "3  20  200  2000\n",
      "5  30  300  3000\n",
      "7  40  400  4000\n"
     ]
    }
   ],
   "source": [
    "def reindex_with_custom_increment(df):\n",
    "    new_index = range(1, len(df) * 2 + 1, 2)  # Create a new index with the desired increment\n",
    "    df_reindexed = df.reset_index(drop=True)  # Reset the existing index and drop it\n",
    "    df_reindexed.index = new_index  # Assign the new index to the DataFrame\n",
    "    return df_reindexed\n",
    "\n",
    "# Example DataFrame\n",
    "data = {\n",
    "    'A': [10, 20, 30, 40],\n",
    "    'B': [100, 200, 300, 400],\n",
    "    'C': [1000, 2000, 3000, 4000]\n",
    "}\n",
    "df = pd.DataFrame(data)\n",
    "\n",
    "# Re-index the DataFrame\n",
    "new_df = reindex_with_custom_increment(df)\n",
    "\n",
    "print(new_df)"
   ]
  },
  {
   "cell_type": "code",
   "execution_count": 13,
   "id": "8f245c4a-ca42-4f69-bd40-111c4f17f1d8",
   "metadata": {},
   "outputs": [],
   "source": [
    "data = {\n",
    "    'A': [10, 20, 30, 40],\n",
    "    'B': [100, 200, 300, 400],\n",
    "    'C': [1000, 2000, 3000, 4000]\n",
    "}\n",
    "df = pd.DataFrame(data)"
   ]
  },
  {
   "cell_type": "code",
   "execution_count": 14,
   "id": "f5bfdc99-bc3e-4946-b773-f63b597d7940",
   "metadata": {},
   "outputs": [],
   "source": [
    "def re_indexed(df):\n",
    "    df[\"\"]= range(1,len(df)*2+1,2)\n",
    "    re=df.set_index(\"\")\n",
    "    return re\n",
    "    \n",
    "    \n",
    "\n",
    "     \n",
    "        "
   ]
  },
  {
   "cell_type": "code",
   "execution_count": 15,
   "id": "d5546557-cc37-4b2b-a8f5-03609dc4dc76",
   "metadata": {},
   "outputs": [],
   "source": [
    "new_df=re_indexed(df)"
   ]
  },
  {
   "cell_type": "code",
   "execution_count": 16,
   "id": "09d98ddd-9ad2-4162-bf53-fefc710ad9ec",
   "metadata": {},
   "outputs": [
    {
     "data": {
      "text/html": [
       "<div>\n",
       "<style scoped>\n",
       "    .dataframe tbody tr th:only-of-type {\n",
       "        vertical-align: middle;\n",
       "    }\n",
       "\n",
       "    .dataframe tbody tr th {\n",
       "        vertical-align: top;\n",
       "    }\n",
       "\n",
       "    .dataframe thead th {\n",
       "        text-align: right;\n",
       "    }\n",
       "</style>\n",
       "<table border=\"1\" class=\"dataframe\">\n",
       "  <thead>\n",
       "    <tr style=\"text-align: right;\">\n",
       "      <th></th>\n",
       "      <th>A</th>\n",
       "      <th>B</th>\n",
       "      <th>C</th>\n",
       "    </tr>\n",
       "    <tr>\n",
       "      <th></th>\n",
       "      <th></th>\n",
       "      <th></th>\n",
       "      <th></th>\n",
       "    </tr>\n",
       "  </thead>\n",
       "  <tbody>\n",
       "    <tr>\n",
       "      <th>1</th>\n",
       "      <td>10</td>\n",
       "      <td>100</td>\n",
       "      <td>1000</td>\n",
       "    </tr>\n",
       "    <tr>\n",
       "      <th>3</th>\n",
       "      <td>20</td>\n",
       "      <td>200</td>\n",
       "      <td>2000</td>\n",
       "    </tr>\n",
       "    <tr>\n",
       "      <th>5</th>\n",
       "      <td>30</td>\n",
       "      <td>300</td>\n",
       "      <td>3000</td>\n",
       "    </tr>\n",
       "    <tr>\n",
       "      <th>7</th>\n",
       "      <td>40</td>\n",
       "      <td>400</td>\n",
       "      <td>4000</td>\n",
       "    </tr>\n",
       "  </tbody>\n",
       "</table>\n",
       "</div>"
      ],
      "text/plain": [
       "    A    B     C\n",
       "                \n",
       "1  10  100  1000\n",
       "3  20  200  2000\n",
       "5  30  300  3000\n",
       "7  40  400  4000"
      ]
     },
     "execution_count": 16,
     "metadata": {},
     "output_type": "execute_result"
    }
   ],
   "source": [
    "new_df"
   ]
  },
  {
   "cell_type": "code",
   "execution_count": 17,
   "id": "75e964c5-43bc-474f-af36-ad1cc7c28011",
   "metadata": {},
   "outputs": [],
   "source": [
    "# Q3. You have a Pandas DataFrame df with a column named 'Values'. Write a Python function that\n",
    "# iterates over the DataFrame and calculates the sum of the first three values in the\n",
    "# 'Values' column. Thefunction should print the sum to the console.\n",
    "# For example, if the 'Values' column of df contains the values [10, 20, 30, 40, 50],\n",
    "# your function shouldcalculate and print the sum of the first three values, which is 60."
   ]
  },
  {
   "cell_type": "code",
   "execution_count": 18,
   "id": "c485f2ab-1c26-4aaf-a155-bf2052515fde",
   "metadata": {},
   "outputs": [],
   "source": [
    "data={'key_1':[1,2,3,4,5,6],\n",
    "     'Values':[10,20,30,40,50,60]}\n",
    "df1=pd.DataFrame(data)"
   ]
  },
  {
   "cell_type": "code",
   "execution_count": 19,
   "id": "03fc1a8b-d33a-4862-8cd8-0b97f2884030",
   "metadata": {},
   "outputs": [],
   "source": [
    "def sum_values(x):\n",
    "    re=df1['Values'][0:x].sum()\n",
    "    return re\n",
    "    "
   ]
  },
  {
   "cell_type": "code",
   "execution_count": 20,
   "id": "8ac5bfdf-0c7b-4d90-9f6f-c8727845d576",
   "metadata": {},
   "outputs": [],
   "source": [
    "A=sum_values(3)"
   ]
  },
  {
   "cell_type": "code",
   "execution_count": 21,
   "id": "20818731-0560-43f3-b0f7-199300109535",
   "metadata": {},
   "outputs": [
    {
     "name": "stdout",
     "output_type": "stream",
     "text": [
      "60\n"
     ]
    }
   ],
   "source": [
    "print(A)"
   ]
  },
  {
   "cell_type": "code",
   "execution_count": 28,
   "id": "03317fb4-cd01-4350-8f3b-50374fcde772",
   "metadata": {},
   "outputs": [],
   "source": [
    "#Q13 To use the basic functions of pandas, what is the first and foremost necessary library that needs to\n",
    "# be imported?"
   ]
  },
  {
   "cell_type": "code",
   "execution_count": 29,
   "id": "5534213b-a805-40a6-b40a-947a7bfc68e6",
   "metadata": {},
   "outputs": [],
   "source": [
    "#To use the basic function of pandas  we used  import an pandas library."
   ]
  },
  {
   "cell_type": "code",
   "execution_count": 40,
   "id": "94a3b0be-43d1-4a32-9440-48a253f8d360",
   "metadata": {},
   "outputs": [],
   "source": [
    "#Q5. How are DataFrame.size() and DataFrame.shape() different?"
   ]
  },
  {
   "cell_type": "code",
   "execution_count": 41,
   "id": "295bc9aa-29a7-4d2f-8d45-027d2ad6864c",
   "metadata": {},
   "outputs": [],
   "source": [
    "import pandas as pd\n",
    "\n",
    "data = {'A': [1, 2, 3], 'B': [4, 5, 6]}\n",
    "df = pd.DataFrame(data)\n",
    "\n",
    "size = df.size\n",
    "shape = df.shape\n"
   ]
  },
  {
   "cell_type": "code",
   "execution_count": 42,
   "id": "fcbb34fa-66e6-4dd8-8d67-2e6e180cd88e",
   "metadata": {},
   "outputs": [
    {
     "data": {
      "text/plain": [
       "6"
      ]
     },
     "execution_count": 42,
     "metadata": {},
     "output_type": "execute_result"
    }
   ],
   "source": [
    "size # Returns 6 (2 rows x 3 columns = 6 elements)"
   ]
  },
  {
   "cell_type": "code",
   "execution_count": 43,
   "id": "fc72159d-880e-403c-9b32-b68a63a89ba6",
   "metadata": {},
   "outputs": [
    {
     "data": {
      "text/plain": [
       "(3, 2)"
      ]
     },
     "execution_count": 43,
     "metadata": {},
     "output_type": "execute_result"
    }
   ],
   "source": [
    "shape  # Returns (2 rows , 3 columns )"
   ]
  },
  {
   "cell_type": "code",
   "execution_count": 44,
   "id": "63b7bbe1-3078-41b1-9576-445906ac8d4b",
   "metadata": {},
   "outputs": [],
   "source": [
    "# Q6. Which function of pandas do we use to read an excel file?"
   ]
  },
  {
   "cell_type": "code",
   "execution_count": 45,
   "id": "c4252ee1-d4b9-43e7-b110-baf4a78b74ef",
   "metadata": {},
   "outputs": [],
   "source": [
    "# we use  pd.read_excel(\"file_name with extension\")"
   ]
  },
  {
   "cell_type": "code",
   "execution_count": 46,
   "id": "fcebf8ee-cd35-4748-bbb2-473a1ab269c1",
   "metadata": {},
   "outputs": [],
   "source": [
    "#Q7. You have a Pandas DataFrame df that contains a column named 'Email' that contains email\n",
    "# addresses in the format 'username@domain.com'. Write a Python function that creates a new column\n",
    "# 'Username' in df that contains only the username part of each email address."
   ]
  },
  {
   "cell_type": "code",
   "execution_count": 57,
   "id": "2a4b0468-2f72-469b-b267-caf134c133b1",
   "metadata": {},
   "outputs": [
    {
     "data": {
      "text/html": [
       "<div>\n",
       "<style scoped>\n",
       "    .dataframe tbody tr th:only-of-type {\n",
       "        vertical-align: middle;\n",
       "    }\n",
       "\n",
       "    .dataframe tbody tr th {\n",
       "        vertical-align: top;\n",
       "    }\n",
       "\n",
       "    .dataframe thead th {\n",
       "        text-align: right;\n",
       "    }\n",
       "</style>\n",
       "<table border=\"1\" class=\"dataframe\">\n",
       "  <thead>\n",
       "    <tr style=\"text-align: right;\">\n",
       "      <th></th>\n",
       "      <th>key_1</th>\n",
       "    </tr>\n",
       "  </thead>\n",
       "  <tbody>\n",
       "    <tr>\n",
       "      <th>0</th>\n",
       "      <td>Gaurav06704@gmail.com</td>\n",
       "    </tr>\n",
       "    <tr>\n",
       "      <th>1</th>\n",
       "      <td>Praveen@gmail.com</td>\n",
       "    </tr>\n",
       "    <tr>\n",
       "      <th>2</th>\n",
       "      <td>Harsh123@gmail.com</td>\n",
       "    </tr>\n",
       "    <tr>\n",
       "      <th>3</th>\n",
       "      <td>Gazal123@gmail.c</td>\n",
       "    </tr>\n",
       "  </tbody>\n",
       "</table>\n",
       "</div>"
      ],
      "text/plain": [
       "                   key_1\n",
       "0  Gaurav06704@gmail.com\n",
       "1      Praveen@gmail.com\n",
       "2     Harsh123@gmail.com\n",
       "3       Gazal123@gmail.c"
      ]
     },
     "execution_count": 57,
     "metadata": {},
     "output_type": "execute_result"
    }
   ],
   "source": [
    "import pandas as pd\n",
    "data={\"key_1\":[\"Gaurav06704@gmail.com\",\"Praveen@gmail.com\",\"Harsh123@gmail.com\",\"Gazal123@gmail.c\"]}\n",
    "df=pd.DataFrame(data)\n",
    "data1"
   ]
  },
  {
   "cell_type": "code",
   "execution_count": 63,
   "id": "5b52fbae-9457-4b69-9919-5d75bbfa0cdd",
   "metadata": {},
   "outputs": [],
   "source": [
    "def extract_user(x):\n",
    "    df[\"Username\"]=df[\"key_1\"].str.split(\"@\").str.get(0)\n",
    "    return df"
   ]
  },
  {
   "cell_type": "code",
   "execution_count": 64,
   "id": "b438d891-6fa0-45ab-bf87-484cc26d0b37",
   "metadata": {},
   "outputs": [],
   "source": [
    "Ex=extract_user(df)"
   ]
  },
  {
   "cell_type": "code",
   "execution_count": 65,
   "id": "26aaedf8-a6ca-418c-9ab5-6d323f548334",
   "metadata": {},
   "outputs": [
    {
     "data": {
      "text/html": [
       "<div>\n",
       "<style scoped>\n",
       "    .dataframe tbody tr th:only-of-type {\n",
       "        vertical-align: middle;\n",
       "    }\n",
       "\n",
       "    .dataframe tbody tr th {\n",
       "        vertical-align: top;\n",
       "    }\n",
       "\n",
       "    .dataframe thead th {\n",
       "        text-align: right;\n",
       "    }\n",
       "</style>\n",
       "<table border=\"1\" class=\"dataframe\">\n",
       "  <thead>\n",
       "    <tr style=\"text-align: right;\">\n",
       "      <th></th>\n",
       "      <th>key_1</th>\n",
       "      <th>Username</th>\n",
       "    </tr>\n",
       "  </thead>\n",
       "  <tbody>\n",
       "    <tr>\n",
       "      <th>0</th>\n",
       "      <td>Gaurav06704@gmail.com</td>\n",
       "      <td>Gaurav06704</td>\n",
       "    </tr>\n",
       "    <tr>\n",
       "      <th>1</th>\n",
       "      <td>Praveen@gmail.com</td>\n",
       "      <td>Praveen</td>\n",
       "    </tr>\n",
       "    <tr>\n",
       "      <th>2</th>\n",
       "      <td>Harsh123@gmail.com</td>\n",
       "      <td>Harsh123</td>\n",
       "    </tr>\n",
       "    <tr>\n",
       "      <th>3</th>\n",
       "      <td>Gazal123@gmail.c</td>\n",
       "      <td>Gazal123</td>\n",
       "    </tr>\n",
       "  </tbody>\n",
       "</table>\n",
       "</div>"
      ],
      "text/plain": [
       "                   key_1     Username\n",
       "0  Gaurav06704@gmail.com  Gaurav06704\n",
       "1      Praveen@gmail.com      Praveen\n",
       "2     Harsh123@gmail.com     Harsh123\n",
       "3       Gazal123@gmail.c     Gazal123"
      ]
     },
     "execution_count": 65,
     "metadata": {},
     "output_type": "execute_result"
    }
   ],
   "source": [
    "Ex"
   ]
  },
  {
   "cell_type": "code",
   "execution_count": 66,
   "id": "7cc8ac63-10c8-4047-8295-2e89f69c5e6a",
   "metadata": {},
   "outputs": [],
   "source": [
    "#Q8.Q8. You have a Pandas DataFrame df with columns 'A', 'B', and 'C'. Write a Python function that selects\n",
    "# all rows where the value in column 'A' is greater than 5 and the value in column 'B' is less than 10. The\n",
    "# function should return a new DataFrame that contains only the selected rows."
   ]
  },
  {
   "cell_type": "code",
   "execution_count": 68,
   "id": "33593de8-4db1-4e31-89cd-561b827ffa75",
   "metadata": {},
   "outputs": [],
   "source": [
    "Data={\"A\":[3,8,6,2,9],\"B\":[5,2,9,3,1],\"C\":[1,7,4,5,2]}\n",
    "Data1=pd.DataFrame(Data)\n"
   ]
  },
  {
   "cell_type": "code",
   "execution_count": 69,
   "id": "4399664c-c472-4b28-9c7d-83360f95c15c",
   "metadata": {},
   "outputs": [
    {
     "data": {
      "text/html": [
       "<div>\n",
       "<style scoped>\n",
       "    .dataframe tbody tr th:only-of-type {\n",
       "        vertical-align: middle;\n",
       "    }\n",
       "\n",
       "    .dataframe tbody tr th {\n",
       "        vertical-align: top;\n",
       "    }\n",
       "\n",
       "    .dataframe thead th {\n",
       "        text-align: right;\n",
       "    }\n",
       "</style>\n",
       "<table border=\"1\" class=\"dataframe\">\n",
       "  <thead>\n",
       "    <tr style=\"text-align: right;\">\n",
       "      <th></th>\n",
       "      <th>A</th>\n",
       "      <th>B</th>\n",
       "      <th>C</th>\n",
       "    </tr>\n",
       "  </thead>\n",
       "  <tbody>\n",
       "    <tr>\n",
       "      <th>0</th>\n",
       "      <td>3</td>\n",
       "      <td>5</td>\n",
       "      <td>1</td>\n",
       "    </tr>\n",
       "    <tr>\n",
       "      <th>1</th>\n",
       "      <td>8</td>\n",
       "      <td>2</td>\n",
       "      <td>7</td>\n",
       "    </tr>\n",
       "    <tr>\n",
       "      <th>2</th>\n",
       "      <td>6</td>\n",
       "      <td>9</td>\n",
       "      <td>4</td>\n",
       "    </tr>\n",
       "    <tr>\n",
       "      <th>3</th>\n",
       "      <td>2</td>\n",
       "      <td>3</td>\n",
       "      <td>5</td>\n",
       "    </tr>\n",
       "    <tr>\n",
       "      <th>4</th>\n",
       "      <td>9</td>\n",
       "      <td>1</td>\n",
       "      <td>2</td>\n",
       "    </tr>\n",
       "  </tbody>\n",
       "</table>\n",
       "</div>"
      ],
      "text/plain": [
       "   A  B  C\n",
       "0  3  5  1\n",
       "1  8  2  7\n",
       "2  6  9  4\n",
       "3  2  3  5\n",
       "4  9  1  2"
      ]
     },
     "execution_count": 69,
     "metadata": {},
     "output_type": "execute_result"
    }
   ],
   "source": [
    "Data1"
   ]
  },
  {
   "cell_type": "code",
   "execution_count": 71,
   "id": "58d05345-b9ab-4aff-80e5-14ab22cbecf7",
   "metadata": {},
   "outputs": [],
   "source": [
    "def fun(x):\n",
    "    df=Data1.query(\"A>5 and B<10\")\n",
    "    return df"
   ]
  },
  {
   "cell_type": "code",
   "execution_count": 73,
   "id": "0e3eae2a-e622-45c1-bed6-3a5e78f9e931",
   "metadata": {},
   "outputs": [
    {
     "data": {
      "text/html": [
       "<div>\n",
       "<style scoped>\n",
       "    .dataframe tbody tr th:only-of-type {\n",
       "        vertical-align: middle;\n",
       "    }\n",
       "\n",
       "    .dataframe tbody tr th {\n",
       "        vertical-align: top;\n",
       "    }\n",
       "\n",
       "    .dataframe thead th {\n",
       "        text-align: right;\n",
       "    }\n",
       "</style>\n",
       "<table border=\"1\" class=\"dataframe\">\n",
       "  <thead>\n",
       "    <tr style=\"text-align: right;\">\n",
       "      <th></th>\n",
       "      <th>A</th>\n",
       "      <th>B</th>\n",
       "      <th>C</th>\n",
       "    </tr>\n",
       "  </thead>\n",
       "  <tbody>\n",
       "    <tr>\n",
       "      <th>1</th>\n",
       "      <td>8</td>\n",
       "      <td>2</td>\n",
       "      <td>7</td>\n",
       "    </tr>\n",
       "    <tr>\n",
       "      <th>2</th>\n",
       "      <td>6</td>\n",
       "      <td>9</td>\n",
       "      <td>4</td>\n",
       "    </tr>\n",
       "    <tr>\n",
       "      <th>4</th>\n",
       "      <td>9</td>\n",
       "      <td>1</td>\n",
       "      <td>2</td>\n",
       "    </tr>\n",
       "  </tbody>\n",
       "</table>\n",
       "</div>"
      ],
      "text/plain": [
       "   A  B  C\n",
       "1  8  2  7\n",
       "2  6  9  4\n",
       "4  9  1  2"
      ]
     },
     "execution_count": 73,
     "metadata": {},
     "output_type": "execute_result"
    }
   ],
   "source": [
    "fun(Data1)"
   ]
  },
  {
   "cell_type": "code",
   "execution_count": 74,
   "id": "c6fb1e6e-0aa6-4a4f-9325-0241680020fe",
   "metadata": {},
   "outputs": [],
   "source": [
    "#Q9. Given a Pandas DataFrame df with a column 'Values', write a Python function to calculate the mean,\n",
    "# median, and standard deviation of the values in the 'Values' column."
   ]
  },
  {
   "cell_type": "code",
   "execution_count": 78,
   "id": "8647c06b-55f9-4169-b869-9ec9d2fb0c23",
   "metadata": {},
   "outputs": [],
   "source": [
    "Data={\"Values\":[1,3,5,7,9,11,13,15,17,19]}\n",
    "Data1= pd .DataFrame(Data)\n",
    "def fun1(x):\n",
    "    Mean=Data1[\"Values\"].mean()\n",
    "    Median=Data1[\"Values\"].median()\n",
    "    std=Data1[\"Values\"].std()\n",
    "    return Mean,Median,std"
   ]
  },
  {
   "cell_type": "code",
   "execution_count": 81,
   "id": "465b1065-e308-4a90-ab0a-195ed94a19d0",
   "metadata": {},
   "outputs": [],
   "source": [
    "Stats=fun1(Data1)#(Mean.Median,std)"
   ]
  },
  {
   "cell_type": "code",
   "execution_count": 82,
   "id": "a1f2af98-08bf-4c0d-aae9-790b7bf60ee9",
   "metadata": {},
   "outputs": [
    {
     "data": {
      "text/plain": [
       "(10.0, 10.0, 6.0553007081949835)"
      ]
     },
     "execution_count": 82,
     "metadata": {},
     "output_type": "execute_result"
    }
   ],
   "source": [
    "Stats#(Mean.Median,std)"
   ]
  },
  {
   "cell_type": "code",
   "execution_count": 83,
   "id": "d85664b3-0413-4b44-8abb-ff923668b563",
   "metadata": {},
   "outputs": [],
   "source": [
    "# Q10. Given a Pandas DataFrame df with a column 'Sales' and a column 'Date', write a Python function to\n",
    "# create a new column 'MovingAverage' that contains the moving average of the sales for the past 7 days\n",
    "# for each row in the DataFrame. The moving average should be calculated using a window of size 7 and\n",
    "# should include the current day."
   ]
  },
  {
   "cell_type": "code",
   "execution_count": 84,
   "id": "0a2c33e1-cf36-4baf-ab1e-1362de492c15",
   "metadata": {},
   "outputs": [],
   "source": [
    "data = {'Date': ['2023-08-01', '2023-08-02', '2023-08-03', '2023-08-04', '2023-08-05'],\n",
    "        'Sales': [100, 150, 120, 200, 180]}\n",
    "df = pd.DataFrame(data)\n",
    "df['Date'] = pd.to_datetime(df['Date'])"
   ]
  },
  {
   "cell_type": "code",
   "execution_count": 85,
   "id": "60fb986d-d9f9-4da8-ad2a-f1db67a841e6",
   "metadata": {},
   "outputs": [],
   "source": [
    "def calculate_moving_average(df, window_size=7):\n",
    "    df['MovingAverage'] = df['Sales'].rolling(window=window_size, min_periods=1).mean()\n",
    "    return df"
   ]
  },
  {
   "cell_type": "code",
   "execution_count": 86,
   "id": "e8289b8e-7705-41d5-9576-66190a1e3e3c",
   "metadata": {},
   "outputs": [],
   "source": [
    "data=calculate_moving_average(df)"
   ]
  },
  {
   "cell_type": "code",
   "execution_count": 87,
   "id": "46ba468e-feeb-4db9-9df7-c5d91b9cf845",
   "metadata": {},
   "outputs": [
    {
     "data": {
      "text/html": [
       "<div>\n",
       "<style scoped>\n",
       "    .dataframe tbody tr th:only-of-type {\n",
       "        vertical-align: middle;\n",
       "    }\n",
       "\n",
       "    .dataframe tbody tr th {\n",
       "        vertical-align: top;\n",
       "    }\n",
       "\n",
       "    .dataframe thead th {\n",
       "        text-align: right;\n",
       "    }\n",
       "</style>\n",
       "<table border=\"1\" class=\"dataframe\">\n",
       "  <thead>\n",
       "    <tr style=\"text-align: right;\">\n",
       "      <th></th>\n",
       "      <th>Date</th>\n",
       "      <th>Sales</th>\n",
       "      <th>MovingAverage</th>\n",
       "    </tr>\n",
       "  </thead>\n",
       "  <tbody>\n",
       "    <tr>\n",
       "      <th>0</th>\n",
       "      <td>2023-08-01</td>\n",
       "      <td>100</td>\n",
       "      <td>100.000000</td>\n",
       "    </tr>\n",
       "    <tr>\n",
       "      <th>1</th>\n",
       "      <td>2023-08-02</td>\n",
       "      <td>150</td>\n",
       "      <td>125.000000</td>\n",
       "    </tr>\n",
       "    <tr>\n",
       "      <th>2</th>\n",
       "      <td>2023-08-03</td>\n",
       "      <td>120</td>\n",
       "      <td>123.333333</td>\n",
       "    </tr>\n",
       "    <tr>\n",
       "      <th>3</th>\n",
       "      <td>2023-08-04</td>\n",
       "      <td>200</td>\n",
       "      <td>142.500000</td>\n",
       "    </tr>\n",
       "    <tr>\n",
       "      <th>4</th>\n",
       "      <td>2023-08-05</td>\n",
       "      <td>180</td>\n",
       "      <td>150.000000</td>\n",
       "    </tr>\n",
       "  </tbody>\n",
       "</table>\n",
       "</div>"
      ],
      "text/plain": [
       "        Date  Sales  MovingAverage\n",
       "0 2023-08-01    100     100.000000\n",
       "1 2023-08-02    150     125.000000\n",
       "2 2023-08-03    120     123.333333\n",
       "3 2023-08-04    200     142.500000\n",
       "4 2023-08-05    180     150.000000"
      ]
     },
     "execution_count": 87,
     "metadata": {},
     "output_type": "execute_result"
    }
   ],
   "source": [
    "data"
   ]
  },
  {
   "cell_type": "code",
   "execution_count": 88,
   "id": "1d3bf338-c97e-49e5-b3ce-9bfc375345ff",
   "metadata": {},
   "outputs": [],
   "source": [
    "#Q11. You have a Pandas DataFrame df with a column 'Date'. Write a Python function that creates a new\n",
    "# column 'Weekday' in the DataFrame. The 'Weekday' column should contain the weekday name (e.g.\n",
    "# Monday, Tuesday) corresponding to each date in the 'Date' column."
   ]
  },
  {
   "cell_type": "code",
   "execution_count": 89,
   "id": "50d1ea87-c16c-4701-a954-2cfaa1c2f304",
   "metadata": {},
   "outputs": [],
   "source": [
    "data = {'Date': ['2023-08-01', '2023-08-02', '2023-08-03', '2023-08-04', '2023-08-05']}\n",
    "df = pd.DataFrame(data)\n",
    "df['Date'] = pd.to_datetime(df['Date'])"
   ]
  },
  {
   "cell_type": "code",
   "execution_count": 92,
   "id": "a2204f88-bfff-48ed-84d9-a7efba5f1195",
   "metadata": {},
   "outputs": [],
   "source": [
    "def func1(x):\n",
    "    df['Weekday'] = df['Date'].dt.strftime('%A')\n",
    "    return df "
   ]
  },
  {
   "cell_type": "code",
   "execution_count": 93,
   "id": "30b2f7a0-7977-40ff-ac27-4715b053f30b",
   "metadata": {},
   "outputs": [],
   "source": [
    "Data=func1(df)"
   ]
  },
  {
   "cell_type": "code",
   "execution_count": 94,
   "id": "e103d436-8e50-4a22-b078-cf3dd15bb0b8",
   "metadata": {},
   "outputs": [
    {
     "data": {
      "text/html": [
       "<div>\n",
       "<style scoped>\n",
       "    .dataframe tbody tr th:only-of-type {\n",
       "        vertical-align: middle;\n",
       "    }\n",
       "\n",
       "    .dataframe tbody tr th {\n",
       "        vertical-align: top;\n",
       "    }\n",
       "\n",
       "    .dataframe thead th {\n",
       "        text-align: right;\n",
       "    }\n",
       "</style>\n",
       "<table border=\"1\" class=\"dataframe\">\n",
       "  <thead>\n",
       "    <tr style=\"text-align: right;\">\n",
       "      <th></th>\n",
       "      <th>Date</th>\n",
       "      <th>Weekday</th>\n",
       "    </tr>\n",
       "  </thead>\n",
       "  <tbody>\n",
       "    <tr>\n",
       "      <th>0</th>\n",
       "      <td>2023-08-01</td>\n",
       "      <td>Tuesday</td>\n",
       "    </tr>\n",
       "    <tr>\n",
       "      <th>1</th>\n",
       "      <td>2023-08-02</td>\n",
       "      <td>Wednesday</td>\n",
       "    </tr>\n",
       "    <tr>\n",
       "      <th>2</th>\n",
       "      <td>2023-08-03</td>\n",
       "      <td>Thursday</td>\n",
       "    </tr>\n",
       "    <tr>\n",
       "      <th>3</th>\n",
       "      <td>2023-08-04</td>\n",
       "      <td>Friday</td>\n",
       "    </tr>\n",
       "    <tr>\n",
       "      <th>4</th>\n",
       "      <td>2023-08-05</td>\n",
       "      <td>Saturday</td>\n",
       "    </tr>\n",
       "  </tbody>\n",
       "</table>\n",
       "</div>"
      ],
      "text/plain": [
       "        Date    Weekday\n",
       "0 2023-08-01    Tuesday\n",
       "1 2023-08-02  Wednesday\n",
       "2 2023-08-03   Thursday\n",
       "3 2023-08-04     Friday\n",
       "4 2023-08-05   Saturday"
      ]
     },
     "execution_count": 94,
     "metadata": {},
     "output_type": "execute_result"
    }
   ],
   "source": [
    "Data"
   ]
  },
  {
   "cell_type": "code",
   "execution_count": null,
   "id": "646df665-c6ef-41c3-b4fb-2f47029e0fbc",
   "metadata": {},
   "outputs": [],
   "source": []
  }
 ],
 "metadata": {
  "kernelspec": {
   "display_name": "Python 3 (ipykernel)",
   "language": "python",
   "name": "python3"
  },
  "language_info": {
   "codemirror_mode": {
    "name": "ipython",
    "version": 3
   },
   "file_extension": ".py",
   "mimetype": "text/x-python",
   "name": "python",
   "nbconvert_exporter": "python",
   "pygments_lexer": "ipython3",
   "version": "3.10.8"
  }
 },
 "nbformat": 4,
 "nbformat_minor": 5
}
