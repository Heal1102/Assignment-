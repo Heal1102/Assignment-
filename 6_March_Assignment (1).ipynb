{
 "cells": [
  {
   "cell_type": "markdown",
   "id": "718a4ee4-49da-4157-a189-b0fe496bace6",
   "metadata": {},
   "source": [
    "# Q1. What is Statistics?"
   ]
  },
  {
   "cell_type": "markdown",
   "id": "aec154b3-0d46-4d60-bfb8-50d16498062b",
   "metadata": {},
   "source": [
    "Answer : Statistics is a branch of mathematics that involves collecting, analyzing, interpreting, and presenting data to make informed decisions or draw conclusions about a population or phenomenon."
   ]
  },
  {
   "cell_type": "markdown",
   "id": "e1b45b39-12c7-4a61-8d5c-5e89ade6ebbb",
   "metadata": {},
   "source": [
    "# Q2. Define the different types of statistics and give an example of when each type might be used."
   ]
  },
  {
   "cell_type": "markdown",
   "id": "9a491bbf-ec62-41fd-a1c6-e1523b9c1e63",
   "metadata": {},
   "source": [
    "Answer : Descriptive statistics summarize and describe data (e.g., mean, median). Inferential statistics make inferences or predictions about a population based on sample data (e.g., hypothesis testing)."
   ]
  },
  {
   "cell_type": "markdown",
   "id": "ceb2f7e5-eabb-4902-96d1-b45bea68ab49",
   "metadata": {},
   "source": [
    "# Q3. What are the different types of data and how do they differ from each other? Provide an example of each type of data."
   ]
  },
  {
   "cell_type": "markdown",
   "id": "7d1acc9c-1bce-4322-b10f-a9fc8cf63407",
   "metadata": {},
   "source": [
    "Answer : Types of data include nominal (categories with no inherent order), ordinal (categories with a distinct order), interval (equal intervals between values), and ratio (true zero point). For example, nominal data: eye color; ordinal data: education level; interval data: temperature in Celsius; ratio data: income."
   ]
  },
  {
   "cell_type": "markdown",
   "id": "911c1b71-b094-47d9-9c27-1561985a24fa",
   "metadata": {},
   "source": [
    "# Q4. Categorise the following datasets with respect to quantitative and qualitative data types:\n",
    "(i) Grading in exam: A+, A, B+, B, C+, C, D, E\n",
    "(ii) Colour of mangoes: yellow, green, orange, red\n",
    "(iii) Height data of a class: [178.9, 179, 179.5, 176, 177.2, 178.3, 175.8,...]\n",
    "(iv) Number of mangoes exported by a farm: [500, 600, 478, 672, ...]"
   ]
  },
  {
   "cell_type": "markdown",
   "id": "fe8d23f7-e1db-4cfe-8409-6f1c1f6b04b7",
   "metadata": {},
   "source": [
    "## Answer :(i) Grading in exam: Qualitative (ordinal) data.\n",
    "## (ii) Colour of mangoes: Qualitative (nominal) data.\n",
    "## (iii) Height data of a class: Quantitative (continuous) data.\n",
    "## (iv) Number of mangoes exported by a farm: Quantitative (discrete) data."
   ]
  },
  {
   "cell_type": "markdown",
   "id": "3f5426c0-82b7-488d-9e00-b98cf8290a2e",
   "metadata": {},
   "source": [
    "# Q5. Explain the concept of levels of measurement and give an example of a variable for each level."
   ]
  },
  {
   "cell_type": "markdown",
   "id": "acda9b5b-8625-4c1b-b7cf-e99986ba386b",
   "metadata": {},
   "source": [
    "\n",
    "Answer : Levels of measurement classify data based on their characteristics and properties, including nominal (categories), ordinal (ordered categories), interval (equal intervals with no true zero), and ratio (equal intervals with a true zero). Example: Nominal - eye color, Ordinal - education level, Interval - temperature in Celsius, Ratio - income."
   ]
  },
  {
   "cell_type": "markdown",
   "id": "4fd029c5-239c-440b-9087-634e7e42930b",
   "metadata": {},
   "source": [
    "# Q6. Why is it important to understand the level of measurement when analyzing data? Provide an example to illustrate your answer."
   ]
  },
  {
   "cell_type": "markdown",
   "id": "82d530ea-b42b-4b15-861c-fe0509f1d997",
   "metadata": {},
   "source": [
    "Answer : Understanding the level of measurement is crucial for selecting appropriate statistical analyses. For example, using the mean to describe ordinal data can be misleading as it may not accurately reflect the underlying order."
   ]
  },
  {
   "cell_type": "markdown",
   "id": "d76b816e-46ee-448f-940d-23a6a88aea47",
   "metadata": {},
   "source": [
    "# Q7. How nominal data type is different from ordinal data type."
   ]
  },
  {
   "cell_type": "markdown",
   "id": "2e14e06d-e6dc-4f4f-93ad-73edd66bbc50",
   "metadata": {},
   "source": [
    "Answer : Nominal data represent categories with no inherent order (e.g., eye color), while ordinal data represent categories with a distinct order (e.g., education level)."
   ]
  },
  {
   "cell_type": "markdown",
   "id": "2856e354-11a3-45a2-b75b-2e11226ff082",
   "metadata": {},
   "source": [
    "# Q8. Which type of plot can be used to display data in terms of range?"
   ]
  },
  {
   "cell_type": "markdown",
   "id": "7587995c-011b-4f86-8e55-6dc0bd434ea4",
   "metadata": {},
   "source": [
    "Answer : A boxplot can display data in terms of range, showing the minimum, first quartile, median, third quartile, and maximum."
   ]
  },
  {
   "cell_type": "markdown",
   "id": "50d76cd6-b7a0-4afa-bfec-f97f5b8623e4",
   "metadata": {},
   "source": [
    "# Q9. Describe the difference between descriptive and inferential statistics. Give an example of each type of statistics and explain how they are used."
   ]
  },
  {
   "cell_type": "code",
   "execution_count": null,
   "id": "3a262d96-8b44-4f8b-8d3d-b59fb96a3821",
   "metadata": {},
   "outputs": [],
   "source": [
    "# Answer : Descriptive statistics summarize data (e.g., mean, standard deviation),\n",
    "#while inferential statistics make predictions or inferences about a population based on sample\n",
    "#data (e.g., hypothesis testing)."
   ]
  },
  {
   "cell_type": "markdown",
   "id": "8db241fb-48f6-409a-b98d-385c25e9c034",
   "metadata": {},
   "source": [
    "# Q10. What are some common measures of central tendency and variability used in statistics? Explain how each measure can be used to describe a dataset."
   ]
  },
  {
   "cell_type": "markdown",
   "id": "4e119fcd-666a-4d50-8741-19080886be78",
   "metadata": {},
   "source": [
    "Answer : Common measures of central tendency include mean, median, and mode, which summarize the central or typical value of a dataset. Measures of variability include range, variance, and standard deviation, which quantify the spread or dispersion of data."
   ]
  },
  {
   "cell_type": "code",
   "execution_count": null,
   "id": "e4da79d7-ca8c-4392-b2b0-9fbc6f2e8ee9",
   "metadata": {},
   "outputs": [],
   "source": []
  }
 ],
 "metadata": {
  "kernelspec": {
   "display_name": "Python 3 (ipykernel)",
   "language": "python",
   "name": "python3"
  },
  "language_info": {
   "codemirror_mode": {
    "name": "ipython",
    "version": 3
   },
   "file_extension": ".py",
   "mimetype": "text/x-python",
   "name": "python",
   "nbconvert_exporter": "python",
   "pygments_lexer": "ipython3",
   "version": "3.10.8"
  }
 },
 "nbformat": 4,
 "nbformat_minor": 5
}
