{
 "cells": [
  {
   "cell_type": "code",
   "execution_count": 2,
   "id": "a638032b-79d7-4023-ac3f-770c0897c441",
   "metadata": {},
   "outputs": [],
   "source": [
    "import pandas as pd"
   ]
  },
  {
   "cell_type": "code",
   "execution_count": 3,
   "id": "875505ed-ef36-424d-9d57-802fa22d8e87",
   "metadata": {},
   "outputs": [],
   "source": [
    "#Q1. Create a Pandas Series that contains the following data: 4, 8, 15, 16, 23, and 42. Then, print the series."
   ]
  },
  {
   "cell_type": "code",
   "execution_count": 4,
   "id": "88cf0614-09f4-471a-b898-600407b61420",
   "metadata": {},
   "outputs": [
    {
     "data": {
      "text/plain": [
       "0     4\n",
       "1     8\n",
       "2    15\n",
       "3    16\n",
       "4    23\n",
       "5    42\n",
       "dtype: int64"
      ]
     },
     "execution_count": 4,
     "metadata": {},
     "output_type": "execute_result"
    }
   ],
   "source": [
    "pd.Series(data=[4,8,15,16,23,42])"
   ]
  },
  {
   "cell_type": "code",
   "execution_count": 5,
   "id": "6eaf86fb-d939-4fa1-8e73-e0be179c2fe7",
   "metadata": {},
   "outputs": [],
   "source": [
    "#Q2. Create a variable of list type containing 10 elements in it, and apply pandas.Series function on the\n",
    " #variable print it."
   ]
  },
  {
   "cell_type": "code",
   "execution_count": 6,
   "id": "44426b0d-cb01-4930-bc74-a8900a98a1bb",
   "metadata": {},
   "outputs": [],
   "source": [
    "l=[4,8,15,16,23,42]"
   ]
  },
  {
   "cell_type": "code",
   "execution_count": 7,
   "id": "9e3ce642-8156-4bf1-abfc-f1d32979521b",
   "metadata": {},
   "outputs": [
    {
     "data": {
      "text/plain": [
       "0     4\n",
       "1     8\n",
       "2    15\n",
       "3    16\n",
       "4    23\n",
       "5    42\n",
       "dtype: int64"
      ]
     },
     "execution_count": 7,
     "metadata": {},
     "output_type": "execute_result"
    }
   ],
   "source": [
    "pd.Series(data=l)"
   ]
  },
  {
   "cell_type": "code",
   "execution_count": 8,
   "id": "6fbf2914-3961-4cb9-aed7-0c3083f0a7a2",
   "metadata": {},
   "outputs": [],
   "source": [
    "#Q3. Create a Pandas DataFrame that contains the following data:"
   ]
  },
  {
   "cell_type": "code",
   "execution_count": 9,
   "id": "fd50e005-4f97-4882-bb6f-23031f2d4447",
   "metadata": {},
   "outputs": [],
   "source": [
    "Data={'Name':[\"Alice\",\"Bob\",\"Claire\"],\n",
    "      'Age':[20,30,27],\n",
    "      'Gender':['Female','Male','Female']}"
   ]
  },
  {
   "cell_type": "code",
   "execution_count": 10,
   "id": "d6d59d98-3326-4587-ac96-4caf95d1561b",
   "metadata": {},
   "outputs": [
    {
     "data": {
      "text/html": [
       "<div>\n",
       "<style scoped>\n",
       "    .dataframe tbody tr th:only-of-type {\n",
       "        vertical-align: middle;\n",
       "    }\n",
       "\n",
       "    .dataframe tbody tr th {\n",
       "        vertical-align: top;\n",
       "    }\n",
       "\n",
       "    .dataframe thead th {\n",
       "        text-align: right;\n",
       "    }\n",
       "</style>\n",
       "<table border=\"1\" class=\"dataframe\">\n",
       "  <thead>\n",
       "    <tr style=\"text-align: right;\">\n",
       "      <th></th>\n",
       "      <th>Name</th>\n",
       "      <th>Age</th>\n",
       "      <th>Gender</th>\n",
       "    </tr>\n",
       "  </thead>\n",
       "  <tbody>\n",
       "    <tr>\n",
       "      <th>0</th>\n",
       "      <td>Alice</td>\n",
       "      <td>20</td>\n",
       "      <td>Female</td>\n",
       "    </tr>\n",
       "    <tr>\n",
       "      <th>1</th>\n",
       "      <td>Bob</td>\n",
       "      <td>30</td>\n",
       "      <td>Male</td>\n",
       "    </tr>\n",
       "    <tr>\n",
       "      <th>2</th>\n",
       "      <td>Claire</td>\n",
       "      <td>27</td>\n",
       "      <td>Female</td>\n",
       "    </tr>\n",
       "  </tbody>\n",
       "</table>\n",
       "</div>"
      ],
      "text/plain": [
       "     Name  Age  Gender\n",
       "0   Alice   20  Female\n",
       "1     Bob   30    Male\n",
       "2  Claire   27  Female"
      ]
     },
     "execution_count": 10,
     "metadata": {},
     "output_type": "execute_result"
    }
   ],
   "source": [
    "pd.DataFrame(Data)"
   ]
  },
  {
   "cell_type": "code",
   "execution_count": 11,
   "id": "5d01afc4-6041-48a9-b537-2e9004af783d",
   "metadata": {},
   "outputs": [],
   "source": [
    "#Q4. What is ‘DataFrame’ in pandas and how is it different from pandas.series? Explain with an example."
   ]
  },
  {
   "cell_type": "code",
   "execution_count": 12,
   "id": "429b1d64-a925-45bc-812c-5c9d60ca16c8",
   "metadata": {},
   "outputs": [],
   "source": [
    "#A DataFrame in pandas is a two-dimensional labeled data structure\n",
    "#that is commonly used for data manipulation and analysis in Python...\n",
    "\n",
    "#On the other hand, a pandas Series is a one-dimensional labeled array that can hold any data type.\n",
    "#It is similar to a column in a DataFrame."
   ]
  },
  {
   "cell_type": "code",
   "execution_count": 13,
   "id": "ebe868a1-e689-461b-af5d-a221cd06f864",
   "metadata": {},
   "outputs": [],
   "source": [
    "#Q5. What are some common functions you can use to manipulate data in a Pandas DataFrame? Can\n",
    "#you give an example of when you might use one of these functions?"
   ]
  },
  {
   "cell_type": "code",
   "execution_count": 14,
   "id": "f39b606f-23c8-4bdc-a1a4-ee67d7d9f41c",
   "metadata": {},
   "outputs": [],
   "source": [
    "# 1. Sorting values (df.sort_values)\n",
    "# 2.  df.groupby()\n",
    "# 3. df.merge()\n",
    "# 4 df.apply()"
   ]
  },
  {
   "cell_type": "code",
   "execution_count": 15,
   "id": "7adfaf3c-3c91-4349-90e0-7c9c7f5b2e0a",
   "metadata": {},
   "outputs": [],
   "source": [
    "Data1={'Name':[\"Alice\",\"Bob\",\"Claire\"],\n",
    "      'Age':[20,30,27],\n",
    "      'Gender':['Female','Male','Female']}\n",
    "Data2={'Name':[\"Alice\",\"Bob\",\"Claire\"],\n",
    "      'Age':[20,30,27],\n",
    "      'Gender':['male','Male','male']}"
   ]
  },
  {
   "cell_type": "code",
   "execution_count": 16,
   "id": "496ad60c-ea0e-4f39-8ed3-dbe76ce9a48c",
   "metadata": {},
   "outputs": [],
   "source": [
    "d1=pd.DataFrame(Data1)"
   ]
  },
  {
   "cell_type": "code",
   "execution_count": 17,
   "id": "d3dc0c38-daf6-45f3-ba36-623d56a3c171",
   "metadata": {},
   "outputs": [],
   "source": [
    "d2=pd.DataFrame(Data2)"
   ]
  },
  {
   "cell_type": "code",
   "execution_count": 22,
   "id": "6f3c589a-8cd9-4a1f-b05e-c62e15af24ff",
   "metadata": {},
   "outputs": [
    {
     "data": {
      "text/html": [
       "<div>\n",
       "<style scoped>\n",
       "    .dataframe tbody tr th:only-of-type {\n",
       "        vertical-align: middle;\n",
       "    }\n",
       "\n",
       "    .dataframe tbody tr th {\n",
       "        vertical-align: top;\n",
       "    }\n",
       "\n",
       "    .dataframe thead th {\n",
       "        text-align: right;\n",
       "    }\n",
       "</style>\n",
       "<table border=\"1\" class=\"dataframe\">\n",
       "  <thead>\n",
       "    <tr style=\"text-align: right;\">\n",
       "      <th></th>\n",
       "      <th>Name_x</th>\n",
       "      <th>Age_x</th>\n",
       "      <th>Gender_x</th>\n",
       "      <th>Name_y</th>\n",
       "      <th>Age_y</th>\n",
       "      <th>Gender_y</th>\n",
       "    </tr>\n",
       "  </thead>\n",
       "  <tbody>\n",
       "    <tr>\n",
       "      <th>0</th>\n",
       "      <td>Alice</td>\n",
       "      <td>20</td>\n",
       "      <td>Female</td>\n",
       "      <td>Alice</td>\n",
       "      <td>20</td>\n",
       "      <td>male</td>\n",
       "    </tr>\n",
       "    <tr>\n",
       "      <th>1</th>\n",
       "      <td>Alice</td>\n",
       "      <td>20</td>\n",
       "      <td>Female</td>\n",
       "      <td>Bob</td>\n",
       "      <td>30</td>\n",
       "      <td>Male</td>\n",
       "    </tr>\n",
       "    <tr>\n",
       "      <th>2</th>\n",
       "      <td>Alice</td>\n",
       "      <td>20</td>\n",
       "      <td>Female</td>\n",
       "      <td>Claire</td>\n",
       "      <td>27</td>\n",
       "      <td>male</td>\n",
       "    </tr>\n",
       "    <tr>\n",
       "      <th>3</th>\n",
       "      <td>Bob</td>\n",
       "      <td>30</td>\n",
       "      <td>Male</td>\n",
       "      <td>Alice</td>\n",
       "      <td>20</td>\n",
       "      <td>male</td>\n",
       "    </tr>\n",
       "    <tr>\n",
       "      <th>4</th>\n",
       "      <td>Bob</td>\n",
       "      <td>30</td>\n",
       "      <td>Male</td>\n",
       "      <td>Bob</td>\n",
       "      <td>30</td>\n",
       "      <td>Male</td>\n",
       "    </tr>\n",
       "    <tr>\n",
       "      <th>5</th>\n",
       "      <td>Bob</td>\n",
       "      <td>30</td>\n",
       "      <td>Male</td>\n",
       "      <td>Claire</td>\n",
       "      <td>27</td>\n",
       "      <td>male</td>\n",
       "    </tr>\n",
       "    <tr>\n",
       "      <th>6</th>\n",
       "      <td>Claire</td>\n",
       "      <td>27</td>\n",
       "      <td>Female</td>\n",
       "      <td>Alice</td>\n",
       "      <td>20</td>\n",
       "      <td>male</td>\n",
       "    </tr>\n",
       "    <tr>\n",
       "      <th>7</th>\n",
       "      <td>Claire</td>\n",
       "      <td>27</td>\n",
       "      <td>Female</td>\n",
       "      <td>Bob</td>\n",
       "      <td>30</td>\n",
       "      <td>Male</td>\n",
       "    </tr>\n",
       "    <tr>\n",
       "      <th>8</th>\n",
       "      <td>Claire</td>\n",
       "      <td>27</td>\n",
       "      <td>Female</td>\n",
       "      <td>Claire</td>\n",
       "      <td>27</td>\n",
       "      <td>male</td>\n",
       "    </tr>\n",
       "  </tbody>\n",
       "</table>\n",
       "</div>"
      ],
      "text/plain": [
       "   Name_x  Age_x Gender_x  Name_y  Age_y Gender_y\n",
       "0   Alice     20   Female   Alice     20     male\n",
       "1   Alice     20   Female     Bob     30     Male\n",
       "2   Alice     20   Female  Claire     27     male\n",
       "3     Bob     30     Male   Alice     20     male\n",
       "4     Bob     30     Male     Bob     30     Male\n",
       "5     Bob     30     Male  Claire     27     male\n",
       "6  Claire     27   Female   Alice     20     male\n",
       "7  Claire     27   Female     Bob     30     Male\n",
       "8  Claire     27   Female  Claire     27     male"
      ]
     },
     "execution_count": 22,
     "metadata": {},
     "output_type": "execute_result"
    }
   ],
   "source": [
    "d1.merge(d2,how='cross')"
   ]
  },
  {
   "cell_type": "code",
   "execution_count": 23,
   "id": "a94efd68-9832-439e-be2c-4e0b5c9d4bdf",
   "metadata": {},
   "outputs": [],
   "source": [
    "#Q6. Which of the following is mutable in nature Series, DataFrame, Panel?"
   ]
  },
  {
   "cell_type": "code",
   "execution_count": 24,
   "id": "69e9da2a-a886-4bb9-a969-1363c5d71d80",
   "metadata": {},
   "outputs": [],
   "source": [
    "# Among the options given (Series, DataFrame, Panel), only the DataFrame \n",
    "# is mutable in nature. This means that you can modify the content of a\n",
    "# DataFrame after it has been created. You can add or remove columns, change values,\n",
    "# and perform various other operations that alter the structure and data within a DataFrame."
   ]
  },
  {
   "cell_type": "code",
   "execution_count": 25,
   "id": "59773428-0618-4a24-b52e-1efa451f09c3",
   "metadata": {},
   "outputs": [],
   "source": [
    "#Q7. Create a DataFrame using multiple Series. Explain with an example."
   ]
  },
  {
   "cell_type": "code",
   "execution_count": 26,
   "id": "a39d6ca8-9c2b-4136-900b-67b5cab74e1f",
   "metadata": {},
   "outputs": [],
   "source": [
    "names = pd.Series(['Gaurav', 'Praveen', 'Harsh', 'David'])\n",
    "ages = pd.Series([21, 22, 20, 23])\n",
    "grades = pd.Series([85, 92, 78, 89])\n"
   ]
  },
  {
   "cell_type": "code",
   "execution_count": 28,
   "id": "c80f3c98-0f89-4034-bd51-05bb62c0f738",
   "metadata": {},
   "outputs": [],
   "source": [
    "Student_data=pd.DataFrame({'Name':names,\n",
    "                          'Age':ages,\n",
    "                          'Grade':grades})"
   ]
  },
  {
   "cell_type": "code",
   "execution_count": 29,
   "id": "85f25d98-0cb2-4e31-85de-06ed1fced596",
   "metadata": {},
   "outputs": [
    {
     "data": {
      "text/html": [
       "<div>\n",
       "<style scoped>\n",
       "    .dataframe tbody tr th:only-of-type {\n",
       "        vertical-align: middle;\n",
       "    }\n",
       "\n",
       "    .dataframe tbody tr th {\n",
       "        vertical-align: top;\n",
       "    }\n",
       "\n",
       "    .dataframe thead th {\n",
       "        text-align: right;\n",
       "    }\n",
       "</style>\n",
       "<table border=\"1\" class=\"dataframe\">\n",
       "  <thead>\n",
       "    <tr style=\"text-align: right;\">\n",
       "      <th></th>\n",
       "      <th>Name</th>\n",
       "      <th>Age</th>\n",
       "      <th>Grade</th>\n",
       "    </tr>\n",
       "  </thead>\n",
       "  <tbody>\n",
       "    <tr>\n",
       "      <th>0</th>\n",
       "      <td>Gaurav</td>\n",
       "      <td>21</td>\n",
       "      <td>85</td>\n",
       "    </tr>\n",
       "    <tr>\n",
       "      <th>1</th>\n",
       "      <td>Praveen</td>\n",
       "      <td>22</td>\n",
       "      <td>92</td>\n",
       "    </tr>\n",
       "    <tr>\n",
       "      <th>2</th>\n",
       "      <td>Harsh</td>\n",
       "      <td>20</td>\n",
       "      <td>78</td>\n",
       "    </tr>\n",
       "    <tr>\n",
       "      <th>3</th>\n",
       "      <td>David</td>\n",
       "      <td>23</td>\n",
       "      <td>89</td>\n",
       "    </tr>\n",
       "  </tbody>\n",
       "</table>\n",
       "</div>"
      ],
      "text/plain": [
       "      Name  Age  Grade\n",
       "0   Gaurav   21     85\n",
       "1  Praveen   22     92\n",
       "2    Harsh   20     78\n",
       "3    David   23     89"
      ]
     },
     "execution_count": 29,
     "metadata": {},
     "output_type": "execute_result"
    }
   ],
   "source": [
    "Student_data"
   ]
  },
  {
   "cell_type": "code",
   "execution_count": null,
   "id": "104a1273-3603-440d-89db-1cf2508c2396",
   "metadata": {},
   "outputs": [],
   "source": []
  }
 ],
 "metadata": {
  "kernelspec": {
   "display_name": "Python 3 (ipykernel)",
   "language": "python",
   "name": "python3"
  },
  "language_info": {
   "codemirror_mode": {
    "name": "ipython",
    "version": 3
   },
   "file_extension": ".py",
   "mimetype": "text/x-python",
   "name": "python",
   "nbconvert_exporter": "python",
   "pygments_lexer": "ipython3",
   "version": "3.10.8"
  }
 },
 "nbformat": 4,
 "nbformat_minor": 5
}
