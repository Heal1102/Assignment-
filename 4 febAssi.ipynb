{
 "cells": [
  {
   "cell_type": "code",
   "execution_count": 41,
   "id": "db8de6fd-a102-4811-b655-aa7721388cc0",
   "metadata": {},
   "outputs": [],
   "source": [
    "#Q1. Create a python program to sort the given list of tuples based on integer value using a\n",
    "#lambda function.\n",
    "l=[('Sachin Tendulkar', 34357), ('Ricky Ponting', 27483), ('Jack Kallis', 25534), ('Virat Kohli', 24936)]"
   ]
  },
  {
   "cell_type": "code",
   "execution_count": 42,
   "id": "f45b6087-c789-4936-bf30-4a277cc4d56d",
   "metadata": {},
   "outputs": [],
   "source": [
    "\n",
    "l.sort(key=lambda x: x[1])"
   ]
  },
  {
   "cell_type": "code",
   "execution_count": 43,
   "id": "795e0fc6-fb42-4724-ae9d-c9cc9c1af8d7",
   "metadata": {},
   "outputs": [
    {
     "data": {
      "text/plain": [
       "[('Virat Kohli', 24936),\n",
       " ('Jack Kallis', 25534),\n",
       " ('Ricky Ponting', 27483),\n",
       " ('Sachin Tendulkar', 34357)]"
      ]
     },
     "execution_count": 43,
     "metadata": {},
     "output_type": "execute_result"
    }
   ],
   "source": [
    "l"
   ]
  },
  {
   "cell_type": "code",
   "execution_count": 44,
   "id": "8e538f10-cfbf-4bfe-9a4f-d9ac71f68b73",
   "metadata": {},
   "outputs": [],
   "source": [
    "#Q2. Write a Python Program to find the squares of all the numbers in the given list of integers using\n",
    "#lambda and map functions.\n",
    "l1=[1, 2, 3, 4, 5, 6, 7, 8, 9, 10]"
   ]
  },
  {
   "cell_type": "code",
   "execution_count": 45,
   "id": "a16cb7a7-0d6b-4935-9abc-c5e00f077cb6",
   "metadata": {},
   "outputs": [
    {
     "data": {
      "text/plain": [
       "[1, 4, 9, 16, 25, 36, 49, 64, 81, 100]"
      ]
     },
     "execution_count": 45,
     "metadata": {},
     "output_type": "execute_result"
    }
   ],
   "source": [
    "list(map(lambda x:x**2,l1))"
   ]
  },
  {
   "cell_type": "code",
   "execution_count": 46,
   "id": "2fe0a0da-936a-474b-9b83-0860856be845",
   "metadata": {},
   "outputs": [],
   "source": [
    "#Q3. Write a python program to convert the given list of integers into a tuple of strings. Use map and\n",
    "#lambda functions\n",
    "#Given String: [1, 2, 3, 4, 5, 6, 7, 8, 9, 10]\n",
    "#Expected output: ('1', '2', '3', '4', '5', '6', '7', '8', '9', '10')"
   ]
  },
  {
   "cell_type": "code",
   "execution_count": 47,
   "id": "7a82d216-ed75-4953-a10f-421e937a7013",
   "metadata": {},
   "outputs": [
    {
     "data": {
      "text/plain": [
       "('1', '2', '3', '4', '5', '6', '7', '8', '9', '10')"
      ]
     },
     "execution_count": 47,
     "metadata": {},
     "output_type": "execute_result"
    }
   ],
   "source": [
    "l2=[1, 2, 3, 4, 5, 6, 7, 8, 9, 10]\n",
    "tuple(map(lambda x:str(x),l2))"
   ]
  },
  {
   "cell_type": "code",
   "execution_count": 48,
   "id": "43692f18-1a32-4bae-800f-4e0ca967c746",
   "metadata": {},
   "outputs": [],
   "source": [
    "#Q4. Write a python program using reduce function to compute the product of a list containing numbers\n",
    "#from 1 to 25."
   ]
  },
  {
   "cell_type": "code",
   "execution_count": 49,
   "id": "b1a5a4c0-a9db-402c-a774-701e50b12507",
   "metadata": {},
   "outputs": [
    {
     "data": {
      "text/plain": [
       "15511210043330985984000000"
      ]
     },
     "execution_count": 49,
     "metadata": {},
     "output_type": "execute_result"
    }
   ],
   "source": [
    "from functools import reduce\n",
    "reduce(lambda x,y:x*y,[i for i in range(1,26) ])"
   ]
  },
  {
   "cell_type": "code",
   "execution_count": 50,
   "id": "bf17210c-083a-46f6-9771-7e937757c5fc",
   "metadata": {},
   "outputs": [],
   "source": [
    "#Q5. Write a python program to filter the numbers in a given list that are divisible by 2 and 3 using the\n",
    "#filter function.\n",
    "l3=[2, 3, 6, 9, 27, 60, 90, 120, 55, 46]"
   ]
  },
  {
   "cell_type": "code",
   "execution_count": 51,
   "id": "2f0965aa-e429-4821-9dd2-5ec6272b9731",
   "metadata": {},
   "outputs": [
    {
     "data": {
      "text/plain": [
       "[6, 60, 90, 120]"
      ]
     },
     "execution_count": 51,
     "metadata": {},
     "output_type": "execute_result"
    }
   ],
   "source": [
    "list(filter(lambda x:x%2==0 and x%3==0,l3))"
   ]
  },
  {
   "cell_type": "code",
   "execution_count": 52,
   "id": "f356a8c9-7fa3-4510-99b5-5f0caf7eb790",
   "metadata": {},
   "outputs": [],
   "source": [
    "#Q6. Write a python program to find palindromes in the given list of strings using lambda and filter\n",
    "#function.\n",
    "l4=['python', 'php', 'aba', 'radar', 'level']  "
   ]
  },
  {
   "cell_type": "code",
   "execution_count": 53,
   "id": "7f56dcd6-b92b-430d-8718-12fcca5c6c8c",
   "metadata": {},
   "outputs": [
    {
     "data": {
      "text/plain": [
       "['php', 'aba', 'radar', 'level']"
      ]
     },
     "execution_count": 53,
     "metadata": {},
     "output_type": "execute_result"
    }
   ],
   "source": [
    "list(filter(lambda x:x[::-1]==x,l4))"
   ]
  },
  {
   "cell_type": "code",
   "execution_count": null,
   "id": "ea09357c-6324-4308-ad62-98e12a492f3a",
   "metadata": {},
   "outputs": [],
   "source": [
    "\n",
    "\n"
   ]
  }
 ],
 "metadata": {
  "kernelspec": {
   "display_name": "Python 3 (ipykernel)",
   "language": "python",
   "name": "python3"
  },
  "language_info": {
   "codemirror_mode": {
    "name": "ipython",
    "version": 3
   },
   "file_extension": ".py",
   "mimetype": "text/x-python",
   "name": "python",
   "nbconvert_exporter": "python",
   "pygments_lexer": "ipython3",
   "version": "3.10.8"
  }
 },
 "nbformat": 4,
 "nbformat_minor": 5
}
