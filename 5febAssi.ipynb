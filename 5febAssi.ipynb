{
 "cells": [
  {
   "cell_type": "code",
   "execution_count": 13,
   "id": "db4f7ef3-c447-4da3-8f3f-a828c1440df8",
   "metadata": {},
   "outputs": [],
   "source": [
    "#Q1. Q1. Explain Class and Object with respect to Object-Oriented Programming. Give a suitable example."
   ]
  },
  {
   "cell_type": "code",
   "execution_count": 15,
   "id": "620a49d3-3cb2-4bb2-8684-5c3e4c625025",
   "metadata": {},
   "outputs": [
    {
     "data": {
      "text/plain": [
       "'In Object-Oriented Programming (OOP), a class is a blueprint or template that defines the attributes\\nand behaviors common to objects of a certain type. An object, on the other hand, is an instance of \\na class, representing a tangible or conceptual entity with specific characteristics and \\nfunctionalities. The class defines the structure, and objects are created from it to interact\\nwith the program. For instance, consider a class \"Car\" with attributes like \"make\" and \"model\"\\nand methods like \"start_engine.\" An object of this class could be \"myCar,\" representing an\\nindividual car with specific make and model, capable of starting its engine.'"
      ]
     },
     "execution_count": 15,
     "metadata": {},
     "output_type": "execute_result"
    }
   ],
   "source": [
    "\n",
    "\"\"\"In Object-Oriented Programming (OOP), a class is a blueprint or template that defines the attributes\n",
    "and behaviors common to objects of a certain type. An object, on the other hand, is an instance of \n",
    "a class, representing a tangible or conceptual entity with specific characteristics and \n",
    "functionalities. The class defines the structure, and objects are created from it to interact\n",
    "with the program. For instance, consider a class \"Car\" with attributes like \"make\" and \"model\"\n",
    "and methods like \"start_engine.\" An object of this class could be \"myCar,\" representing an\n",
    "individual car with specific make and model, capable of starting its engine.\"\"\""
   ]
  },
  {
   "cell_type": "code",
   "execution_count": null,
   "id": "62a7480e-fd6f-442e-8b76-f98edf8523ea",
   "metadata": {},
   "outputs": [],
   "source": [
    "#Q2. Name the four pillars of OOPs"
   ]
  },
  {
   "cell_type": "code",
   "execution_count": 17,
   "id": "5302c469-e266-4520-8b39-f60f1100f437",
   "metadata": {},
   "outputs": [],
   "source": [
    "#The four pillars of Object-Oriented Programming (OOP) are:\n",
    "\n",
    "#1.Encapsulation: Bundling data and methods that operate on the data.\n",
    "#2.Abstraction: Simplifying complex systems by modeling classes based on essentials.\n",
    "#3.Inheritance: Creating new classes by reusing existing class attributes and behaviors.\n",
    "#4.Polymorphism: Providing a single interface for multiple types of entities."
   ]
  },
  {
   "cell_type": "code",
   "execution_count": 18,
   "id": "3666c900-74eb-45ab-aceb-3cc16e60795a",
   "metadata": {},
   "outputs": [],
   "source": [
    "#Q3. Explain why the __init__() function is used. Give a suitable example."
   ]
  },
  {
   "cell_type": "code",
   "execution_count": 19,
   "id": "1b428ed7-69b7-43d9-abde-da8d2f4bb4a0",
   "metadata": {},
   "outputs": [],
   "source": [
    "#The __init__() function in Python is a special method used in classes to initialize object attributes when an instance \n",
    "#of the class is created. It allows setting default values and performing necessary setup operations. For example, in a \"Car\" \n",
    "#class, __init__() can initialize attributes like make, model, and year. This ensures that each instance starts with defined values.\n",
    "#Here's a concise example:"
   ]
  },
  {
   "cell_type": "code",
   "execution_count": 20,
   "id": "b8ee38ee-030a-4f8e-956c-310b132a8a4e",
   "metadata": {},
   "outputs": [
    {
     "name": "stdout",
     "output_type": "stream",
     "text": [
      "2022 Toyota Camry\n"
     ]
    }
   ],
   "source": [
    "class Car:\n",
    "    def __init__(self, make, model, year):\n",
    "        self.make = make\n",
    "        self.model = model\n",
    "        self.year = year\n",
    "\n",
    "my_car = Car(\"Toyota\", \"Camry\", 2022)\n",
    "print(f\"{my_car.year} {my_car.make} {my_car.model}\")\n"
   ]
  },
  {
   "cell_type": "code",
   "execution_count": 21,
   "id": "d9be9946-7d37-414f-b5c6-2b21f3d4fbb8",
   "metadata": {},
   "outputs": [],
   "source": [
    "#Q4. Why self is used in OOPs?"
   ]
  },
  {
   "cell_type": "code",
   "execution_count": 22,
   "id": "db074165-22db-4e2e-9630-d8889def4354",
   "metadata": {},
   "outputs": [],
   "source": [
    "#In Object-Oriented Programming (OOP), self is a reference to the instance of the class.\n",
    "#It is used to access and modify the instance's attributes and methods within the class.\n",
    "#When a method is called on an instance, the instance itself is passed as the first parameter\n",
    "#(conventionally named self), allowing the method to operate on the specific instance."
   ]
  },
  {
   "cell_type": "code",
   "execution_count": 23,
   "id": "e094c6ed-ecc9-413d-ac30-e79f8b7ecf8a",
   "metadata": {},
   "outputs": [
    {
     "name": "stdout",
     "output_type": "stream",
     "text": [
      "42\n"
     ]
    }
   ],
   "source": [
    "class MyClass:\n",
    "    def __init__(self, x):\n",
    "        self.x = x\n",
    "\n",
    "    def print_x(self):\n",
    "        print(self.x)\n",
    "\n",
    "obj = MyClass(42)\n",
    "obj.print_x()\n"
   ]
  },
  {
   "cell_type": "code",
   "execution_count": 24,
   "id": "47d1a074-b4cf-443d-9e05-1f353ece049c",
   "metadata": {},
   "outputs": [],
   "source": [
    "#Q5. What is inheritance? Give an example for each type of inheritance."
   ]
  },
  {
   "cell_type": "code",
   "execution_count": 25,
   "id": "0af49190-2b38-4b9d-92ae-cbb011224328",
   "metadata": {},
   "outputs": [],
   "source": [
    "#Inheritance in Object-Oriented Programming (OOP) allows a class (subclass/derived class) \n",
    "#to inherit attributes and behaviors from another class (base class/parent class). \n",
    "#There are different types of inheritance:\n",
    "#Single Inheritance"
   ]
  },
  {
   "cell_type": "code",
   "execution_count": 26,
   "id": "c958b09c-fe20-414b-8a7e-081abc32d5f5",
   "metadata": {},
   "outputs": [
    {
     "name": "stdout",
     "output_type": "stream",
     "text": [
      "Animal speaks\n"
     ]
    }
   ],
   "source": [
    "class Animal:\n",
    "    def speak(self):\n",
    "        print(\"Animal speaks\")\n",
    "\n",
    "class Dog(Animal):\n",
    "    def bark(self):\n",
    "        print(\"Dog barks\")\n",
    "\n",
    "my_dog = Dog()\n",
    "my_dog.speak()  # Inherits 'speak' from Animal\n"
   ]
  },
  {
   "cell_type": "code",
   "execution_count": null,
   "id": "3050d557-871b-4aee-8724-92e57e66ce5d",
   "metadata": {},
   "outputs": [],
   "source": [
    "#Multi"
   ]
  }
 ],
 "metadata": {
  "kernelspec": {
   "display_name": "Python 3 (ipykernel)",
   "language": "python",
   "name": "python3"
  },
  "language_info": {
   "codemirror_mode": {
    "name": "ipython",
    "version": 3
   },
   "file_extension": ".py",
   "mimetype": "text/x-python",
   "name": "python",
   "nbconvert_exporter": "python",
   "pygments_lexer": "ipython3",
   "version": "3.10.8"
  }
 },
 "nbformat": 4,
 "nbformat_minor": 5
}
